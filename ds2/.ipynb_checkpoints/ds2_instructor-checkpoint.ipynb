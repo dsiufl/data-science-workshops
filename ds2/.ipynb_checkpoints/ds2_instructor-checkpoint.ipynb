{
 "cells": [
  {
   "cell_type": "markdown",
   "metadata": {},
   "source": [
    "# Data Science Wednesday 03/13/2019"
   ]
  },
  {
   "cell_type": "code",
   "execution_count": 1,
   "metadata": {},
   "outputs": [],
   "source": [
    "#import necessary libraries\n",
    "import pandas as pd\n",
    "import re\n",
    "from sklearn.model_selection import train_test_split"
   ]
  },
  {
   "cell_type": "markdown",
   "metadata": {},
   "source": [
    "## About Data\n",
    "As an example for text classification we work with 1956 comments from 5 different YouTube videos. The comments were collected via the YouTube API from five of the ten most viewed videos on YouTube in the first half of 2015. The comments were manually labeled as spam or legitimate. Spam was coded with a “1” and legitimate comments with a “0”. Data files: 'Youtube01-Psy.csv','Youtube02-KatyPerry.csv','Youtube03-LMFAO.csv','Youtube04-Eminem.csv','Youtube05-Shakira.csv'"
   ]
  },
  {
   "cell_type": "code",
   "execution_count": 2,
   "metadata": {},
   "outputs": [
    {
     "data": {
      "text/html": [
       "<div>\n",
       "<style scoped>\n",
       "    .dataframe tbody tr th:only-of-type {\n",
       "        vertical-align: middle;\n",
       "    }\n",
       "\n",
       "    .dataframe tbody tr th {\n",
       "        vertical-align: top;\n",
       "    }\n",
       "\n",
       "    .dataframe thead th {\n",
       "        text-align: right;\n",
       "    }\n",
       "</style>\n",
       "<table border=\"1\" class=\"dataframe\">\n",
       "  <thead>\n",
       "    <tr style=\"text-align: right;\">\n",
       "      <th></th>\n",
       "      <th>COMMENT_ID</th>\n",
       "      <th>AUTHOR</th>\n",
       "      <th>DATE</th>\n",
       "      <th>CONTENT</th>\n",
       "      <th>CLASS</th>\n",
       "    </tr>\n",
       "  </thead>\n",
       "  <tbody>\n",
       "    <tr>\n",
       "      <th>0</th>\n",
       "      <td>LZQPQhLyRh80UYxNuaDWhIGQYNQ96IuCg-AYWqNPjpU</td>\n",
       "      <td>Julius NM</td>\n",
       "      <td>2013-11-07T06:20:48</td>\n",
       "      <td>Huh, anyway check out this you[tube] channel: ...</td>\n",
       "      <td>1</td>\n",
       "    </tr>\n",
       "    <tr>\n",
       "      <th>1</th>\n",
       "      <td>LZQPQhLyRh_C2cTtd9MvFRJedxydaVW-2sNg5Diuo4A</td>\n",
       "      <td>adam riyati</td>\n",
       "      <td>2013-11-07T12:37:15</td>\n",
       "      <td>Hey guys check out my new channel and our firs...</td>\n",
       "      <td>1</td>\n",
       "    </tr>\n",
       "    <tr>\n",
       "      <th>2</th>\n",
       "      <td>LZQPQhLyRh9MSZYnf8djyk0gEF9BHDPYrrK-qCczIY8</td>\n",
       "      <td>Evgeny Murashkin</td>\n",
       "      <td>2013-11-08T17:34:21</td>\n",
       "      <td>just for test I have to say murdev.com</td>\n",
       "      <td>1</td>\n",
       "    </tr>\n",
       "    <tr>\n",
       "      <th>3</th>\n",
       "      <td>z13jhp0bxqncu512g22wvzkasxmvvzjaz04</td>\n",
       "      <td>ElNino Melendez</td>\n",
       "      <td>2013-11-09T08:28:43</td>\n",
       "      <td>me shaking my sexy ass on my channel enjoy ^_^ ﻿</td>\n",
       "      <td>1</td>\n",
       "    </tr>\n",
       "    <tr>\n",
       "      <th>4</th>\n",
       "      <td>z13fwbwp1oujthgqj04chlngpvzmtt3r3dw</td>\n",
       "      <td>GsMega</td>\n",
       "      <td>2013-11-10T16:05:38</td>\n",
       "      <td>watch?v=vtaRGgvGtWQ   Check this out .﻿</td>\n",
       "      <td>1</td>\n",
       "    </tr>\n",
       "  </tbody>\n",
       "</table>\n",
       "</div>"
      ],
      "text/plain": [
       "                                    COMMENT_ID            AUTHOR  \\\n",
       "0  LZQPQhLyRh80UYxNuaDWhIGQYNQ96IuCg-AYWqNPjpU         Julius NM   \n",
       "1  LZQPQhLyRh_C2cTtd9MvFRJedxydaVW-2sNg5Diuo4A       adam riyati   \n",
       "2  LZQPQhLyRh9MSZYnf8djyk0gEF9BHDPYrrK-qCczIY8  Evgeny Murashkin   \n",
       "3          z13jhp0bxqncu512g22wvzkasxmvvzjaz04   ElNino Melendez   \n",
       "4          z13fwbwp1oujthgqj04chlngpvzmtt3r3dw            GsMega   \n",
       "\n",
       "                  DATE                                            CONTENT  \\\n",
       "0  2013-11-07T06:20:48  Huh, anyway check out this you[tube] channel: ...   \n",
       "1  2013-11-07T12:37:15  Hey guys check out my new channel and our firs...   \n",
       "2  2013-11-08T17:34:21             just for test I have to say murdev.com   \n",
       "3  2013-11-09T08:28:43   me shaking my sexy ass on my channel enjoy ^_^ ﻿   \n",
       "4  2013-11-10T16:05:38            watch?v=vtaRGgvGtWQ   Check this out .﻿   \n",
       "\n",
       "   CLASS  \n",
       "0      1  \n",
       "1      1  \n",
       "2      1  \n",
       "3      1  \n",
       "4      1  "
      ]
     },
     "execution_count": 2,
     "metadata": {},
     "output_type": "execute_result"
    }
   ],
   "source": [
    "#Read in the data\n",
    "train_data = []\n",
    "data_files = ['Youtube01-Psy.csv','Youtube02-KatyPerry.csv','Youtube03-LMFAO.csv','Youtube04-Eminem.csv','Youtube05-Shakira.csv']\n",
    "for file in data_files:\n",
    "    data = pd.read_csv(file)\n",
    "    train_data.append(data)\n",
    "train_data = pd.concat(train_data)\n",
    "train_data.head()"
   ]
  },
  {
   "cell_type": "code",
   "execution_count": 3,
   "metadata": {},
   "outputs": [
    {
     "data": {
      "text/plain": [
       "1    1005\n",
       "0     951\n",
       "Name: CLASS, dtype: int64"
      ]
     },
     "execution_count": 3,
     "metadata": {},
     "output_type": "execute_result"
    }
   ],
   "source": [
    "#check the count of each class\n",
    "train_data['CLASS'].value_counts()"
   ]
  },
  {
   "cell_type": "markdown",
   "metadata": {},
   "source": [
    "## Cleaning the data\n",
    "1. Drop insignificant columns\n",
    "2. Process the contents of data\n",
    "3. Extract features from the data\n"
   ]
  },
  {
   "cell_type": "code",
   "execution_count": 4,
   "metadata": {},
   "outputs": [],
   "source": [
    "#drop columns\n",
    "def drop_features(features,data):\n",
    "    data.drop(features,axis=1,inplace=True)"
   ]
  },
  {
   "cell_type": "code",
   "execution_count": 5,
   "metadata": {},
   "outputs": [
    {
     "name": "stdout",
     "output_type": "stream",
     "text": [
      "<class 'pandas.core.frame.DataFrame'>\n",
      "Int64Index: 1956 entries, 0 to 369\n",
      "Data columns (total 2 columns):\n",
      "CONTENT    1956 non-null object\n",
      "CLASS      1956 non-null int64\n",
      "dtypes: int64(1), object(1)\n",
      "memory usage: 45.8+ KB\n"
     ]
    },
    {
     "data": {
      "text/html": [
       "<div>\n",
       "<style scoped>\n",
       "    .dataframe tbody tr th:only-of-type {\n",
       "        vertical-align: middle;\n",
       "    }\n",
       "\n",
       "    .dataframe tbody tr th {\n",
       "        vertical-align: top;\n",
       "    }\n",
       "\n",
       "    .dataframe thead th {\n",
       "        text-align: right;\n",
       "    }\n",
       "</style>\n",
       "<table border=\"1\" class=\"dataframe\">\n",
       "  <thead>\n",
       "    <tr style=\"text-align: right;\">\n",
       "      <th></th>\n",
       "      <th>CONTENT</th>\n",
       "      <th>CLASS</th>\n",
       "    </tr>\n",
       "  </thead>\n",
       "  <tbody>\n",
       "    <tr>\n",
       "      <th>0</th>\n",
       "      <td>Huh, anyway check out this you[tube] channel: ...</td>\n",
       "      <td>1</td>\n",
       "    </tr>\n",
       "    <tr>\n",
       "      <th>1</th>\n",
       "      <td>Hey guys check out my new channel and our firs...</td>\n",
       "      <td>1</td>\n",
       "    </tr>\n",
       "    <tr>\n",
       "      <th>2</th>\n",
       "      <td>just for test I have to say murdev.com</td>\n",
       "      <td>1</td>\n",
       "    </tr>\n",
       "    <tr>\n",
       "      <th>3</th>\n",
       "      <td>me shaking my sexy ass on my channel enjoy ^_^ ﻿</td>\n",
       "      <td>1</td>\n",
       "    </tr>\n",
       "    <tr>\n",
       "      <th>4</th>\n",
       "      <td>watch?v=vtaRGgvGtWQ   Check this out .﻿</td>\n",
       "      <td>1</td>\n",
       "    </tr>\n",
       "  </tbody>\n",
       "</table>\n",
       "</div>"
      ],
      "text/plain": [
       "                                             CONTENT  CLASS\n",
       "0  Huh, anyway check out this you[tube] channel: ...      1\n",
       "1  Hey guys check out my new channel and our firs...      1\n",
       "2             just for test I have to say murdev.com      1\n",
       "3   me shaking my sexy ass on my channel enjoy ^_^ ﻿      1\n",
       "4            watch?v=vtaRGgvGtWQ   Check this out .﻿      1"
      ]
     },
     "execution_count": 5,
     "metadata": {},
     "output_type": "execute_result"
    }
   ],
   "source": [
    "drop_features(['COMMENT_ID','AUTHOR','DATE'],train_data)\n",
    "train_data.info()\n",
    "train_data.head()"
   ]
  },
  {
   "cell_type": "code",
   "execution_count": 6,
   "metadata": {},
   "outputs": [],
   "source": [
    "#process content\n",
    "def process_content(content):\n",
    "    return \" \".join(re.findall(\"[A-Za-z]+\",content.lower()))"
   ]
  },
  {
   "cell_type": "code",
   "execution_count": 7,
   "metadata": {},
   "outputs": [
    {
     "data": {
      "text/html": [
       "<div>\n",
       "<style scoped>\n",
       "    .dataframe tbody tr th:only-of-type {\n",
       "        vertical-align: middle;\n",
       "    }\n",
       "\n",
       "    .dataframe tbody tr th {\n",
       "        vertical-align: top;\n",
       "    }\n",
       "\n",
       "    .dataframe thead th {\n",
       "        text-align: right;\n",
       "    }\n",
       "</style>\n",
       "<table border=\"1\" class=\"dataframe\">\n",
       "  <thead>\n",
       "    <tr style=\"text-align: right;\">\n",
       "      <th></th>\n",
       "      <th>CONTENT</th>\n",
       "      <th>CLASS</th>\n",
       "      <th>processed_content</th>\n",
       "    </tr>\n",
       "  </thead>\n",
       "  <tbody>\n",
       "    <tr>\n",
       "      <th>0</th>\n",
       "      <td>Huh, anyway check out this you[tube] channel: ...</td>\n",
       "      <td>1</td>\n",
       "      <td>huh anyway check out this you tube channel kob...</td>\n",
       "    </tr>\n",
       "    <tr>\n",
       "      <th>1</th>\n",
       "      <td>Hey guys check out my new channel and our firs...</td>\n",
       "      <td>1</td>\n",
       "      <td>hey guys check out my new channel and our firs...</td>\n",
       "    </tr>\n",
       "    <tr>\n",
       "      <th>2</th>\n",
       "      <td>just for test I have to say murdev.com</td>\n",
       "      <td>1</td>\n",
       "      <td>just for test i have to say murdev com</td>\n",
       "    </tr>\n",
       "    <tr>\n",
       "      <th>3</th>\n",
       "      <td>me shaking my sexy ass on my channel enjoy ^_^ ﻿</td>\n",
       "      <td>1</td>\n",
       "      <td>me shaking my sexy ass on my channel enjoy</td>\n",
       "    </tr>\n",
       "    <tr>\n",
       "      <th>4</th>\n",
       "      <td>watch?v=vtaRGgvGtWQ   Check this out .﻿</td>\n",
       "      <td>1</td>\n",
       "      <td>watch v vtarggvgtwq check this out</td>\n",
       "    </tr>\n",
       "  </tbody>\n",
       "</table>\n",
       "</div>"
      ],
      "text/plain": [
       "                                             CONTENT  CLASS  \\\n",
       "0  Huh, anyway check out this you[tube] channel: ...      1   \n",
       "1  Hey guys check out my new channel and our firs...      1   \n",
       "2             just for test I have to say murdev.com      1   \n",
       "3   me shaking my sexy ass on my channel enjoy ^_^ ﻿      1   \n",
       "4            watch?v=vtaRGgvGtWQ   Check this out .﻿      1   \n",
       "\n",
       "                                   processed_content  \n",
       "0  huh anyway check out this you tube channel kob...  \n",
       "1  hey guys check out my new channel and our firs...  \n",
       "2             just for test i have to say murdev com  \n",
       "3         me shaking my sexy ass on my channel enjoy  \n",
       "4                 watch v vtarggvgtwq check this out  "
      ]
     },
     "execution_count": 7,
     "metadata": {},
     "output_type": "execute_result"
    }
   ],
   "source": [
    "train_data['processed_content'] = train_data['CONTENT'].apply(process_content)\n",
    "train_data.head()"
   ]
  },
  {
   "cell_type": "code",
   "execution_count": 8,
   "metadata": {},
   "outputs": [],
   "source": [
    "#drop 'CONTENT', lets use 'PROCESSED CONTENT'\n",
    "drop_features(['CONTENT'],train_data)"
   ]
  },
  {
   "cell_type": "code",
   "execution_count": 9,
   "metadata": {},
   "outputs": [],
   "source": [
    "#Train test split\n",
    "x_train, x_test, y_train, y_test = train_test_split(train_data['processed_content'],train_data['CLASS'],test_size=0.2,random_state=57)"
   ]
  },
  {
   "cell_type": "code",
   "execution_count": 10,
   "metadata": {},
   "outputs": [],
   "source": [
    "#Feature extraction\n",
    "#Count Vectorizer\n",
    "from sklearn.feature_extraction.text import CountVectorizer\n",
    "count_vect = CountVectorizer(stop_words='english')\n",
    "x_train_counts = count_vect.fit_transform(x_train)"
   ]
  },
  {
   "cell_type": "code",
   "execution_count": 22,
   "metadata": {},
   "outputs": [
    {
     "name": "stdout",
     "output_type": "stream",
     "text": [
      "{'cool': 579, 'video': 3107, 'lmfaovevo': 1726, 'check': 463, 'shuffling': 2618, 'videos': 3108, 'channel': 451, 'chance': 446, 'appreciated': 155, 'cheers': 467, 'rel': 2416, 'nofollow': 2026, 'class': 498, 'ot': 2105, 'hashtag': 1285, 'href': 1372, 'https': 1376, 'plus': 2229, 'google': 1202, 'com': 525, 'everydayimvaping': 918, 'subscribe': 2802, 'chanel': 447, 'know': 1614, 'maybe': 1827, 'read': 2379, 'type': 3028, 'quot': 2352, 'deazy': 685, 'rapper': 2367, 'dream': 791, 'like': 1689, 'millions': 1883, 'everyday': 917, 'music': 1963, 'thank': 2907, 'love': 1756, 'decent': 687, 'following': 1061, 'youtube': 3320, 'people': 2168, 'reading': 2380, 'thumbs': 2933, 'just': 1563, 'simple': 2631, 'button': 392, 'press': 2275, 'make': 1797, 'come': 526, 'true': 2999, 'time': 2941, 'amp': 112, 'god': 1190, 'bless': 312, 'playlist': 2218, 'hey': 1321, 'young': 3316, 'coming': 533, 'wanna': 3164, 'heard': 1304, 'spam': 2718, 'wont': 3240, 'fame': 971, 'moment': 1921, 'got': 1209, 'way': 3186, 'getting': 1158, 'little': 1712, 'attention': 187, 'favour': 990, 'drop': 804, 'sub': 2797, 'enjoy': 887, 'im': 1422, 'started': 2758, 'really': 2386, 'appreciate': 154, 'leave': 1669, 'constructive': 570, 'criticism': 616, 'subscribers': 2807, 'views': 3116, 'vid': 3106, 'ive': 1511, 'told': 2957, 'potential': 2260, 'thumb': 2932, 'watching': 3180, 'http': 1375, 'www': 3281, 'twitch': 3023, 'tv': 3018, 'jaroadc': 1522, 'follow': 1058, 'watch': 3177, 'stream': 2782, 'song': 2695, 'want': 3165, 'robot': 2486, 'guy': 1245, 'hello': 1310, 'probably': 2286, 'pass': 2142, 'kind': 1602, 'comments': 537, 'thanks': 2910, 'don': 773, 'money': 1924, 'advertisements': 59, 'live': 1714, 'small': 2673, 'town': 2970, 'comes': 530, 'sorry': 2708, 'instrumental': 1475, 'songwriter': 2697, 'columbus': 523, 'mississippi': 1901, 'original': 2103, 'highly': 1326, 'comment': 534, 'adam': 41, 'whitney': 3211, 'old': 2081, 'greatest': 1221, 'best': 269, 'quality': 2344, 'right': 2461, 'feel': 1005, 'need': 1989, 'help': 1311, 'possibly': 2254, 'means': 1833, 'world': 3250, 'listen': 1706, 'hate': 1286, 'honestly': 1350, 'year': 3305, 'dakoda': 654, 'bigelow': 286, 'singer': 2636, 'producer': 2291, 've': 3090, 'gained': 1125, 'far': 979, 'likes': 1694, 'order': 2101, 'brand': 354, 'new': 2003, 'gone': 1196, 'called': 405, 'deaf': 679, 'moments': 1922, 'greatly': 1222, 'won': 3237, 'regret': 2412, 'support': 2833, 'thepiratebay': 2918, 'se': 2542, 'torrent': 2965, 'timothy': 2943, 'sykes': 2858, 'collection': 518, 'paused': 2152, 'clip': 507, 'movie': 1946, 'camera': 407, 'man': 1805, 'glasses': 1184, 'lmfao': 1724, 'party': 2139, 'rock': 2488, 'anthem': 135, 'ft': 1102, 'lauren': 1658, 'bennett': 267, 'goo': 1198, 'youtu': 3318, 'kq': 1627, 'zr': 3342, 'kcpj': 1584, 'br': 351, 'box': 346, 'moves': 1945, 'makes': 1799, 'meh': 1845, 'smile': 2679, 'fuck': 1105, 'yeah': 3304, 'guys': 1246, 'tend': 2895, 'skip': 2654, 'look': 1733, 'free': 1082, 'big': 284, 'room': 2495, 'progressive': 2299, 'house': 1368, 'deep': 694, 'dubstep': 810, 'chillstep': 472, 'missouri': 1902, 'community': 541, 'ask': 176, 'critiquing': 617, 'gotten': 1211, 'better': 272, 'months': 1932, 'ago': 72, 'promise': 2302, 'content': 573, 'satisfying': 2522, 'soon': 2700, 'able': 8, 'advertise': 58, 'pester': 2182, 'anymore': 140, 'gimme': 1166, 'duty': 817, 'vids': 3110, 'aways': 209, 'goal': 1188, 'subs': 2800, 'katycats': 1580, 'releasing': 2420, 'midnight': 1876, 'uk': 3032, 'celebrate': 432, 'katy': 1578, 'th': 2904, 'birthday': 300, 'sure': 2838, 'record': 2396, 'xd': 3284, 'tension': 2897, 'dope': 778, 'phenomenallyricshere': 2186, 'waka': 3157, 'think': 2926, 'smart': 2675, 'headbutt': 1299, 'face': 959, 'omg': 2086, 'oldspice': 2083, 'spraytan': 2746, 'commercial': 538, 'sitting': 2648, 'isn': 1500, 'real': 2383, 'thing': 2923, 'subscrib': 2801, 'beatboxing': 245, 'perry': 2178, 'sit': 2645, 'awesome': 210, 'll': 1720, 'dollars': 769, 'ok': 2078, 'thats': 2913, 'good': 1199, 'ill': 1416, 'erection': 905, 'facebook': 960, 'pages': 2123, 'mathster': 1823, 'wp': 3262, 'ref': 2403, 'hl': 1338, 'reason': 2389, 'wish': 3227, 'shuffle': 2615, 'crazy': 606, 'dudes': 812, 'billion': 294, 'amazing': 102, 'going': 1193, 'hear': 1303, 'roar': 2480, 'soundsofsunday': 2713, 'gets': 1157, 'great': 1220, 'warning': 3171, 'happen': 1272, 'lneadw': 1727, 'bfst': 276, 'vhkjl': 3103, 'pxaey': 2336, 'vmnlvmriudtsfk': 3136, 'vy': 3151, 'ali': 92, 'pa': 2118, 'croatia': 619, 'lt': 1767, 'bfvkahxpkenm': 280, 'fywkyxthsupri': 1120, 'juqsznu': 1560, 'belrus': 265, 'nice': 2007, 'bftvzqt': 278, 'juehasiefrjg': 1554, 'exi': 929, 'dvqdnqvpho': 821, 'exode': 932, 'comeback': 527, 'bfunoarag': 279, 'awgu': 214, 'tjo': 2951, 'azdkfiun': 221, 'tz': 3030, 'hy': 1395, 'muhammad': 1959, 'shaeel': 2582, 'abbas': 5, 'bft': 277, 'otoufj': 2107, 'vfflfnaxykwzsivqhimx': 3101, 'notorious': 2043, 'niko': 2019, 'yr': 3323, 'trying': 3006, 'exposure': 945, 'belgium': 257, 'speaks': 2725, 'english': 886, 'resort': 2440, 'gay': 1146, 'latest': 1653, 'tracks': 2976, 'audio': 190, 'isnt': 1501, 'gonna': 1197, 'invest': 1486, 'equipment': 904, 'track': 2975, 'dont': 777, 'response': 2443, 'advance': 57, 'making': 1802, 'view': 3111, 'melhor': 1849, 'deo': 706, 'inscreva': 1461, 'meu': 1864, 'canal': 411, 'por': 2249, 'favor': 988, 'obrigado': 2061, 'mejor': 1847, 'si': 2619, 'suscriba': 2845, 'mi': 1870, 'gracias': 1215, 'meilleur': 1846, 'vous': 3145, 'abonner': 11, 'ma': 1786, 'cha': 440, 'ne': 1985, 'il': 1415, 'pla': 2207, 'merci': 1856, 'edm': 851, 'apparel': 148, 'company': 542, 'dedicated': 692, 'bringing': 364, 'inspired': 1468, 'designs': 714, 'clothing': 510, 'perfect': 2171, 'rave': 2373, 'festival': 1016, 'neon': 1995, 'crop': 620, 'tops': 2964, 'tank': 2877, 'shirts': 2600, 'necks': 1988, 'accessories': 20, 'instagraml': 1470, 'giveaways': 1175, 'news': 2005, 'visit': 3129, 'site': 2646, 'oncueapparel': 2088, 'times': 2942, 'said': 2513, 'deserve': 713, 'visiting': 3130, 'viewer': 3113, 'hi': 1323, 'upcoming': 3052, 'tell': 2893, 'haters': 1287, 'welcome': 3200, 'ouf': 2108, 'ouffffffffffffffffff': 2109, 'hahaa': 1258, 'dance': 657, 'tightttt': 2940, 'ain': 81, 'demo': 703, 'stuff': 2793, 'slappers': 2661, 'bangers': 233, 'click': 504, 'link': 1702, 'peep': 2163, 'game': 1127, 'soundcloud': 2711, 'rocc': 2487, 'steady': 2764, 'wave': 3183, 'emoji': 875, 'prod': 2289, 'nippylongbottom': 2022, 'cyber': 642, 'punk': 2326, 'tried': 2993, 'dribbleproshot': 799, 'search': 2544, 'website': 3193, 'useful': 3070, 'demonstrating': 704, 'enormously': 892, 'improve': 1435, 'soccer': 2686, 'football': 1063, 'skills': 2651, 'transformed': 2983, 'fausto': 984, 'substantially': 2813, 'player': 2216, 'amazement': 101, 'team': 2885, 'mates': 1821, 'hopefully': 1356, 'works': 3249, 'mind': 1888, 'master': 1819, 'extraordinary': 950, 'moneygq': 1925, 'online': 2092, 'start': 2757, 'working': 3248, 'home': 1346, 'today': 2954, 'month': 1930, 'does': 762, 'wood': 3242, 'photograph': 2190, 'husky': 1389, 'breath': 360, 'act': 32, 'retain': 2446, 'delightful': 701, 'rhythm': 2458, 'fabricates': 957, 'scintillating': 2537, 'harbor': 1278, 'head': 1298, 'years': 3306, 'flies': 1045, 'rihanna': 2464, 'eminem': 872, 'unstoppable': 3049, 'shakira': 2585, 'bad': 226, 'brazilian': 356, 'relate': 2417, 'daughter': 671, 'official': 2069, 'cevxzvsjlk': 438, 'remeber': 2422, 'ol': 2080, 'days': 674, 'songs': 2696, 'weren': 3204, 'butts': 393, 'kyle': 1634, 'rap': 2363, 'men': 1855, 'allot': 94, 'effort': 855, 'unfortunatly': 3043, 'mom': 1920, 'christmas': 486, 'kitten': 1607, 'wanted': 3166, 'mean': 1831, 'oportunity': 2097, 'daconnormc': 650, 'jap': 1521, 'piece': 2198, 'shit': 2601, 'worthless': 3257, 'fish': 1041, 'dumb': 814, 'untanlted': 3050, 'gook': 1204, 'fucken': 1107, 'fucking': 1108, 'sad': 2511, 'fucked': 1106, 'sooooo': 2702, 'autotuned': 201, 'megan': 1843, 'fox': 1075, 'doesnt': 764, 'hot': 1363, 'freaking': 1080, 'wil': 3220, 'watched': 3178, 'bil': 290, 'wow': 3260, 'gs': 1232, 'sucks': 2819, 'opinion': 2096, 'billions': 295, 'gangman': 1136, 'sty': 2795, 'bass': 239, 'fireball': 1037, 'fruity': 1099, 'loops': 1741, 'took': 2961, 'teloa': 2894, 'rio': 2468, 'psy': 2319, 'reverbnation': 2450, 'msmarilynmiles': 1954, 'share': 2589, 'page': 2120, 'win': 3222, 'hand': 1268, 'signed': 2625, 'photo': 2189, 'fb': 993, 'fans': 976, 'million': 1882, 'shares': 2591, 'meet': 1841, 'johnny': 1540, 'completely': 549, 'person': 2179, 'continue': 575, 'sing': 2635, 'write': 3268, 'lyrics': 1785, 'play': 2215, 'guitar': 1240, 'drums': 807, 'keyboards': 1589, 'band': 230, 'independent': 1448, 'listener': 1707, 'supported': 2834, 'willing': 3221, 'album': 87, 'picture': 2196, 'day': 673, 'dancer': 659, 'pictures': 2197, 'difficult': 728, 'image': 1424, 'ru': 2504, 'nxk': 2057, 'hkds': 1337, 'joking': 1545, 'hacked': 1253, 'certain': 437, 'actually': 39, 'did': 721, 'buy': 394, 'zonepa': 3341, 'answer': 134, 'rehabilitate': 2413, 'blushing': 322, 'limit': 1699, 'push': 2331, 'depreciateds': 707, 'steel': 2765, 'beautiful': 249, 'selection': 2560, 'edit': 848, 'range': 2361, 'faves': 987, 'xxx': 3296, 'dis': 734, 'parry': 2137, 'total': 2967, 'binbox': 297, 'io': 1492, 'firo': 1040, 'ends': 884, 'boa': 323, 'constrictor': 569, 'squeezes': 2749, 'death': 683, 'yay': 3301, 'commenter': 535, 'donate': 774, 'bitcoins': 306, 'fhenqx': 1019, 'twqm': 3025, 'ptayiejnealahzvem': 2320, 'ww': 3279, 'estiloproduction': 908, 'dislikes': 744, 'dislike': 742, 'youtuber': 3321, 'upload': 3058, 'nearly': 1987, 'single': 2639, 'hope': 1355, 'shikas': 2598, 'mins': 1894, 'life': 1687, 'anime': 129, 'pretty': 2276, 'sick': 2621, 'females': 1014, 'korea': 1622, 'republic': 2438, 'asia': 173, 'fashions': 981, 'tiger': 2937, 'care': 418, 'blog': 314, 'sinar': 2634, 'jahitan': 1518, 'collections': 519, 'tqvm': 2974, 'understand': 3039, 'lol': 1730, 'hating': 1288, 'confusing': 561, 'sooooooooooooong': 2703, 'ready': 2382, 'cyphers': 644, 'tomorrow': 2959, 'lamest': 1642, 'cup': 630, 'africa': 68, 'wasn': 3172, 'aid': 78, 'event': 915, 'charity': 457, 'case': 420, 'instead': 1473, 'proud': 2312, 'ricky': 2460, 'martin': 1816, 'needed': 1990, 'smh': 2678, 'popular': 2246, 'listening': 1708, 'pleasure': 2224, 'gangnam': 1137, 'style': 2796, 'network': 2001, 'register': 2410, 'difference': 726, 'paid': 2124, 'sharing': 2592, 'commenting': 536, 'liking': 1695, 'posts': 2259, 'waste': 3173, 'tsu': 3009, 'slema': 2666, 'wellcome': 3201, 'remix': 2427, 'tyga': 3027, 'molly': 1918, 'whiz': 3212, 'khalifa': 1591, 'peace': 2161, 'earn': 829, 'investment': 1487, 'therglove': 2922, 'blogspot': 316, 'post': 2255, 'html': 1374, 'kid': 1592, 'cudi': 629, 'xytcq': 3297, 'nzmua': 2060, 'script': 2541, 'gt': 1233, 'document': 760, 'target': 2879, 'self': 2561, 'rover': 2500, 'ebay': 840, 'icep': 1402, 'ff': 1017, 'pub': 2321, 'toolid': 2962, 'campid': 410, 'customid': 637, 'bogdan': 327, 'grigore': 1224, 'ipn': 1495, 'psmain': 2317, 'vectorid': 3091, 'kwid': 1632, 'mtid': 1956, 'kw': 1631, 'lg': 1681, 'arive': 161, 'img': 1427, 'text': 2902, 'decoration': 691, 'border': 338, 'padding': 2119, 'margin': 1808, 'src': 2751, 'roverimp': 2501, 'mpt': 1950, 'math': 1822, 'floor': 1050, 'random': 2359, 'noscript': 2036, 'cachebuster': 404, 'lovet': 1762, 'singing': 2638, 'covers': 600, 'fav': 985, 'survival': 2842, 'hiphop': 1331, 'beats': 248, 'favorite': 989, 'firework': 1039, 'reach': 2377, 'half': 1265, 'left': 1672, 'birtgday': 299, 'possible': 2253, 'open': 2093, 'different': 727, 'tabs': 2866, 'browser': 372, 'remember': 2423, 'wasting': 3175, 'sec': 2548, 'plz': 2230, 'kinda': 1603, 'close': 508, 'jjiwajwkajajqjaubkm': 1533, 'haven': 1290, 'summon': 2825, 'freddy': 1081, 'mercury': 1857, 'ghost': 1161, 'whipe': 3209, 'earth': 833, 'direction': 733, 'miley': 1880, 'cirus': 492, 'holy': 1345, 'mary': 1818, 'pray': 2269, 'mother': 1939, 'virgin': 3125, 'virgins': 3126, 'christ': 484, 'divine': 751, 'grace': 1214, 'pure': 2328, 'chaste': 461, 'inviolate': 1488, 'undefiled': 3037, 'amiable': 111, 'admirable': 48, 'counsel': 589, 'creator': 611, 'redeemer': 2400, 'thailand': 2906, 'everybody': 916, 'vote': 3141, 'ema': 867, 'female': 1013, 'pop': 2244, 'wat': 3176, 'da': 648, 'viewed': 3112, 'twitter': 3024, 'freyacumqueen': 1092, 'belarus': 256, 'king': 1604, 'micheal': 1874, 'jackson': 1517, 'hard': 1279, 'authenticviews': 197, 'famous': 973, 'yo': 3314, 'voice': 3139, 'sound': 2710, 'spanish': 2722, 'jacket': 1516, 'sleeve': 2664, 'sleeveless': 2665, 'arm': 163, 'large': 1649, 'convinced': 577, 'girl': 1171, 'happy': 1277, 'giphy': 1168, 'gifs': 1164, 'flowers': 1052, 'gw': 1248, 'jy': 1570, 'uqiaxkaqxs': 3063, 'fullscreen': 1114, 'minhateca': 1891, 'mauro': 1826, 'sp': 2715, 'filmes': 1031, 'series': 2572, 'desenhos': 712, 'animes': 130, 'mp': 1948, 'zero': 3334, 'hahahahah': 1260, 'computer': 552, 'based': 237, 'industry': 1451, 'peoples': 2169, 'seen': 2557, 'perform': 2172, 'form': 1068, 'evil': 920, 'leisure': 1674, 'cease': 429, 'reveling': 2449, 'behold': 254, 'murder': 1961, 'innocent': 1457, 'night': 2015, 'plot': 2227, 'neighbor': 1992, 'stand': 2754, 'rights': 2462, 'commit': 539, 'abomination': 10, 'clap': 497, 'hands': 1270, 'wickedness': 3215, 'celebrated': 433, 'openly': 2094, 'streets': 2783, 'perverse': 2181, 'abominable': 9, 'generation': 1154, 'shall': 2587, 'repay': 2435, 'word': 3244, 'lord': 1743, 'trumpetcallofgodonline': 3001, 'user': 3071, 'jlimvuth': 1535, 'lie': 1684, 'vidios': 3109, 'bang': 232, 'happened': 1273, 'featuring': 1001, 'rhianna': 2455, 'hes': 1320, 'shes': 2595, 'dealing': 680, 'theories': 2916, 'hits': 1336, 'mabey': 1787, 'realy': 2388, 'stuck': 2791, 'access': 19, 'internet': 1483, 'including': 1442, 'numbers': 2053, 'rising': 2472, 'populatoin': 2248, 'connected': 566, 'hackers': 1254, 'loved': 1757, 'rised': 2471, 'featured': 1000, 'multiple': 1960, 'concerts': 555, 'eve': 913, 'seeing': 2556, 'adding': 44, 'complaining': 547, 'heck': 1307, 'thumsb': 2934, 'barnesandnoble': 234, 'bdp': 242, 'csrftoken': 625, 'tixe': 2950, 'cnkcosoqkemgjlu': 512, 'uwv': 3080, 'nsxso': 2047, 'sort': 2709, 'dd': 676, 'size': 2649, 'iyec': 1513, 'nrwp': 2045, 'nytno': 2059, 'amhvmflutggl': 110, 'dref': 795, 'keyword': 1590, 'store': 2776, 'ebook': 841, 'fantastic': 977, 'nirvana': 2023, 'trust': 3002, 'wowwwwwwwwwwwwwwwwwwwwwwwwwwwwww': 3261, 'billboard': 292, 'articles': 168, 'columns': 524, 'shop': 2608, 'fan': 974, 'army': 164, 'round': 2499, 'sones': 2694, 'vips': 3122, 'december': 686, 'sold': 2689, 'worldwide': 3252, 'miss': 1898, 'teespring': 2891, 'treechristmas': 2989, 'fear': 997, 'bout': 345, 'airplane': 84, 'crashed': 605, 'land': 1644, 'away': 208, 'survive': 2843, 'pet': 2183, 'tiget': 2939, 'kitty': 1608, 'purpy': 2329, 'work': 3246, 'lots': 1752, 'fun': 1115, 'affiliated': 62, 'easy': 836, 'enjoyable': 888, 'info': 1452, 'contact': 572, 'neeru': 1991, 'gmail': 1186, 'special': 2726, 'african': 69, 'rage': 2357, 'rocks': 2490, 'kids': 1594, 'eyes': 954, 'myfunnyriddles': 1972, 'collaborator': 517, 'uploading': 3060, 'lexis': 1680, 'lot': 1751, 'takes': 2868, 'nature': 1983, 'place': 2208, 'tits': 2949, 'impress': 1434, 'ways': 3187, 'nl': 2024, 'super': 2827, 'tvcmcadavid': 3019, 'weebly': 3195, 'opportunity': 2100, 'apprecitate': 156, 'nokia': 2029, 'spotted': 2742, 'partying': 2140, 'population': 2247, 'tu': 3010, 'gn': 1187, 'earthquake': 834, 'nepal': 1996, 'subscribing': 2809, 'hackfbaccountlive': 1255, 'cypher': 643, 'recently': 2393, 'second': 2549, 'desire': 715, 'ep': 901, 'subscription': 2811, 'counts': 594, 'gaming': 1133, 'art': 166, 'scientific': 2536, 'experiments': 939, 'tutorials': 3017, 'cover': 598, 'expectations': 935, 'spare': 2723, 'mess': 1860, 'upto': 3062, 'hour': 1366, 'netjobs': 2000, 'comfort': 531, 'currently': 633, 'hiring': 1332, 'wide': 3216, 'social': 2687, 'media': 1837, 'jobs': 1538, 'sites': 2647, 'prior': 2280, 'experience': 938, 'begin': 251, 'immediately': 1429, 'easily': 835, 'monthly': 1931, 'income': 1444, 'span': 2721, 'proflinkwrapper': 2297, 'proflinkprefix': 2296, 'proflink': 2295, 'oid': 2075, 'supermariologan': 2829, 'glad': 1182, 'knows': 1617, 'katheryn': 1575, 'sister': 2643, 'seriously': 2573, 'raw': 2374, 'talent': 2870, 'straight': 2778, 'hip': 1330, 'hop': 1354, 'newest': 2004, 'dizzy': 755, 'juice': 1555, 'drugs': 805, 'model': 1916, 'citizen': 493, 'lazy': 1659, 'prophetz': 2308, 'dante': 666, 'riled': 2465, 'increidebl': 1447, 'sell': 2563, 'jack': 1515, 'daniel': 664, 'iphone': 1494, 'itm': 1504, 'sspagename': 2753, 'strk': 2787, 'meselx': 1859, 'trksid': 2996, 'boy': 348, 'bzkp': 401, 'yesterday': 3310, 'subcribe': 2798, 'couple': 595, 'exceptions': 926, 'subscribed': 2803, 'recentley': 2392, 'surpassing': 2840, 'justing': 1567, 'bieber': 283, 'beating': 247, 'taylor': 2883, 'swift': 2854, 'instagram': 1469, 'followers': 1060, 'igblast': 1412, 'em': 866, 'minutes': 1896, 'partyman': 2141, 'fr': 1076, 'tunez': 3013, 'wouldnt': 3259, 'chacking': 441, 'giver': 1176, 'sign': 2624, 'add': 43, 'roberts': 2483, 'example': 924, 'abuse': 14, 'husbands': 1388, 'feminist': 1015, 'definitely': 695, 'agree': 73, 'die': 725, 'sayin': 2528, 'makeup': 1800, 'middle': 1875, 'woods': 3243, 'shuffles': 2616, 'bitches': 305, 'checking': 465, 'cheats': 462, 'wattpad': 3182, 'story': 2777, 'simply': 2632, 'fighting': 1025, 'blow': 319, 'cio': 491, 'cabelo': 403, 'decio': 689, 'hair': 1261, 'age': 71, 'family': 972, 'homeless': 1347, 'alcoholic': 88, 'invisible': 1489, 'composer': 550, 'deciocabelo': 690, 'born': 342, 'october': 2065, 'spamming': 2720, 'loads': 1729, 'try': 3005, 'wierd': 3217, 'funny': 1117, 'tonight': 2960, 'penny': 2166, 'ladies': 1639, 'broken': 367, 'heart': 1306, 'underground': 3038, 'book': 332, 'power': 2265, 'pussy': 2333, 'amazon': 103, 'girls': 1172, 'oh': 2073, 'gusttavo': 1244, 'lima': 1698, 'voc': 3138, 'conhece': 565, 'secret': 2551, 'min': 1886, 'honest': 1349, 'theres': 2921, 'thousands': 2931, 'ambition': 104, 'dedication': 693, 'passion': 2144, 'huge': 1378, 'incredible': 1446, 'expose': 944, 'believer': 260, 'loyal': 1765, 'reads': 2381, 'doing': 766, 'closer': 509, 'loving': 1764, 'oldchat': 2082, 'tk': 2952, 'telephone': 2892, 'entertainer': 895, 'pleassssssssssssssss': 2223, 'subscribeeeeeeeeee': 2805, 'channnnnnelll': 453, 'plzz': 2231, 'mighty': 1877, 'drunk': 808, 'hit': 1335, 'billiom': 293, 'decided': 688, 'shakifans': 2584, 'replay': 2436, 'hav': 1289, 'absolutely': 12, 'idea': 1405, 'saying': 2529, 'language': 1647, 'floooooooooooooooooooop': 1049, 'sup': 2826, 'gus': 1242, 'loves': 1761, 'beauty': 250, 'instantly': 1472, 'forgot': 1067, 'happening': 1274, 'marketglory': 1813, 'strategygame': 2780, 'andrijamatf': 119, 'hay': 1292, 'dakota': 655, 'earned': 830, 'subscribee': 2804, 'suffering': 2822, 'brain': 352, 'tumor': 3012, 'lucks': 1770, 'discover': 738, 'moroccan': 1937, 'linkbucks': 1703, 'acn': 28, 'youtubers': 3322, 'wants': 3167, 'successful': 2816, 'musician': 1964, 'seconds': 2550, 'gave': 1145, 'fudairyqueen': 1109, 'pnref': 2237, 'katyperryvevo': 1581, 'axeljonssons': 216, 'realtionship': 2387, 'whats': 3207, 'showcase': 2613, 'suck': 2818, 'spread': 2747, 'lucas': 1768, 'trigo': 2995, 'stay': 2763, 'passionate': 2145, 'sex': 2579, 'believe': 258, 'giant': 1163, 'pushes': 2332, 'giving': 1178, 'bigboss': 285, 'xx': 3295, 'hii': 1327, 'gta': 1234, 'gameplay': 1128, 'sayho': 2527, 'america': 107, 'overplayed': 2115, 'hell': 1309, 'radio': 2356, 'jungle': 1558, 'happens': 1275, 'aye': 219, 'homies': 1348, 'cent': 435, 'line': 1700, 'feed': 1003, 'yt': 3325, 'grateful': 1217, 'bf': 275, 'advice': 60, 'autotune': 200, 'madly': 1791, 'woman': 3234, 'congrasulation': 562, 'en': 879, 'prothom': 2311, 'alo': 97, 'sport': 2740, 'zimbabwe': 3336, 'dhaka': 718, 'wednesday': 3194, 'duel': 813, 'theme': 2915, 'bit': 303, 'insult': 1476, 'later': 1652, 'annoys': 133, 'rants': 2362, 'vi': 3104, 'charlie': 459, 'lost': 1749, 'didnt': 724, 'fuego': 1110, 'la': 1635, 'hyperurl': 1396, 'xt': 3292, 'train': 2980, 'dancing': 661, 'outfit': 2111, 'sexy': 2581, 'turn': 3014, 'lacked': 1636, 'eyebrows': 953, 'friend': 1094, 'repass': 2434, 'shared': 2590, 'web': 3192, 'preview': 2277, 'pdf': 2159, 'cjfoftxeba': 494, 'pls': 2228, 'count': 590, 'koean': 1621, 'chainise': 442, 'ana': 114, 'dick': 720, 'stop': 2775, 'entire': 898, 'alive': 93, 'freakin': 1079, 'pagee': 2122, 'guarantee': 1235, 'break': 357, 'katie': 1576, 'downloads': 784, 'propa': 2306, 'explicit': 941, 'gangsta': 1139, 'insted': 1474, 'garbage': 1140, 'trash': 2986, 'fave': 986, 'fablife': 956, 'diys': 754, 'challenges': 444, 'thx': 2935, 'pivot': 2205, 'animations': 127, 'inaccurate': 1437, 'rip': 2469, 'apps': 158, 'crdits': 607, 'download': 782, 'app': 147, 'freemyapps': 1084, 'url': 3066, 'af': 61, 'ilove': 1420, 'queen': 2345, 'michael': 1873, 'long': 1731, 'paragraph': 2134, 'itt': 1505, 'ppl': 2267, 'competition': 546, 'idols': 1410, 'pic': 2194, 'ig': 1411, 'smzdivopxb': 2683, 'fruits': 1098, 'vegetables': 3092, 'longer': 1732, 'lasting': 1651, 'energy': 885, 'weight': 3198, 'loss': 1748, 'loseweight': 1746, 'friends': 1095, 'wife': 3219, 'earns': 832, 'wwhore': 3280, 'wages': 3155, 'pc': 2157, 'taking': 2869, 'surveys': 2841, 'yahoo': 3299, 'legit': 1673, 'msg': 1953, 'vulnerable': 3149, 'used': 3069, 'solve': 2691, 'problems': 2288, 'details': 716, 'id': 1403, 'vn': 3137, 'ibit': 1400, 'applocker': 152, 'premium': 2273, 'easypromosapp': 837, 'voteme': 3143, 'expendables': 937, 'dvdscr': 820, 'xvid': 3293, 'dingo': 732, 'wywphi': 3283, 'awesomeness': 211, 'aaaaaaa': 1, 'lada': 1638, 'metal': 1863, 'drews': 798, 'reflective': 2407, 'effect': 853, 'expansion': 933, 'intervene': 1484, 'hilarious': 1328, 'sneeze': 2685, 'witnesss': 3230, 'smoke': 2681, 'gbphotographygb': 1148, 'shot': 2610, 'boobs': 331, 'magically': 1792, 'bigger': 287, 'suddenly': 2821, 'dude': 811, 'practically': 2268, 'vanishes': 3085, 'disliked': 743, 'summer': 2824, 'version': 3098, 'alright': 99, 'john': 1539, 'smoking': 2682, 'lyrically': 1784, 'hotter': 1364, 'annoying': 132, 'polls': 2242, 'utsitcompetition': 3077, 'ouxg': 2112, 'anand': 116, 'niketan': 2017, 'international': 1482, 'school': 2535, 'project': 2300, 'dom': 770, 'exactly': 922, 'favourite': 991, 'rappers': 2368, 'looooooooooooooooooooovvvvvvvvveeeeeeeeeeee': 1739, 'ittttttttttttt': 1507, 'recording': 2397, 'fifa': 1023, 'goals': 1189, 'heroin': 1319, 'let': 1676, 'message': 1861, 'ps': 2316, 'galaxy': 1126, 'mini': 1892, 'ipad': 1493, 'hh': 1322, 'faded': 965, 'aimbwbfqbzg': 80, 'subscrible': 2810, 'near': 1986, 'eminems': 873, 'actual': 38, 'talking': 2874, 'untitled': 3051, 'cold': 515, 'wind': 3223, 'blows': 320, 'elevator': 863, 'business': 388, 'wtp': 3276, 'apologies': 145, 'toy': 2972, 'soldiers': 2690, 'mosh': 1938, 'insane': 1458, 'spousal': 2744, 'abusue': 17, 'chuck': 489, 'norrus': 2035, 'ovbiously': 2113, 'remixes': 2429, 'thanx': 2912, 'swag': 2847, 'rapping': 2369, 'wheels': 3208, 'weird': 3199, 'significantly': 2626, 'boost': 337, 'aka': 85, 'turned': 3015, 'nick': 2011, 'definitily': 696, 'amazed': 100, 'mmph': 1913, 'blue': 321, 'trusted': 3003, 'uranus': 3065, 'fantasy': 978, 'swagfriends': 2849, 'join': 1541, 'movement': 1944, 'likeeeeeeeee': 1693, 'loool': 1738, 'understands': 3040, 'woobox': 3241, 'gxrf': 1250, 'brt': 373, 'cs': 624, 'laura': 1657, 'hopme': 1359, 'paidverts': 2125, 'sihaam': 2628, 'melbourne': 1848, 'grow': 1227, 'ithat': 1503, 'child': 470, 'actor': 36, 'hwang': 1392, 'minoo': 1893, 'active': 35, 'praying': 2270, 'future': 1118, 'superstar': 2831, 'stronglittlepsy': 2789, 'ygunited': 3313, 'aiiima': 79, 'plzzz': 2232, 'ce': 428, 'al': 86, 'feedback': 1004, 'aswell': 185, 'pleaase': 2220, 'searching': 2545, 'nereboy': 1997, 'lostproduce': 1750, 'atlastatlas': 186, 'jkork': 1534, 'thot': 2927, 'epic': 902, 'awsome': 215, 'itunes': 1508, 'gift': 1165, 'card': 416, 'shhort': 2597, 'gbrne': 1149, 'ehi': 859, 'minecraft': 1890, 'tomeks': 2958, 'randomly': 2360, 'replies': 2437, 'jello': 1525, 'strawberry': 2781, 'poor': 2243, 'animals': 125, 'everyones': 919, 'lool': 1736, 'tuto': 3016, 'usually': 3073, 'boys': 349, 'say': 2526, 'liers': 1685, 'treating': 2988, 'lovely': 1758, 'lively': 1715, 'beutiful': 273, 'south': 2714, 'american': 108, 'matter': 1824, 'elephant': 862, 'bengal': 266, 'collaboration': 516, 'number': 2051, 'firepa': 1038, 'lake': 1640, 'busyglide': 389, 'sasaroo': 2520, 'sore': 2707, 'chillpal': 471, 'axiomatic': 217, 'naperone': 1979, 'mere': 1858, 'undesirable': 3041, 'agreeable': 74, 'encouraging': 881, 'imperfect': 1430, 'roasted': 2482, 'insidious': 1463, 'modgone': 1917, 'quickest': 2348, 'trelod': 2990, 'keen': 1585, 'fresh': 1091, 'economic': 844, 'bocilile': 325, 'sneakiestg': 2684, 'hood': 1352, 'muzik': 1968, 'dafuq': 652, 'korean': 1623, 'usa': 3067, 'koreans': 1624, 'checked': 464, 'bomb': 328, 'equals': 903, 'smartie': 2677, 'pants': 2132, 'roblox': 2484, 'warcraft': 3169, 'mario': 1810, 'suscribe': 2846, 'doubt': 781, 'job': 1537, 'hw': 1391, 'meghan': 1844, 'youtub': 3319, 'shakiria': 2586, 'drum': 806, 'povz': 2264, 'oiq': 2077, 'list': 1705, 'uultucdihsdei': 3079, 'ow': 2116, 'wuq': 3277, 'finally': 1033, 'sense': 2569, 'plizz': 2226, 'withing': 3229, 'lets': 1677, 'wouldn': 3258, 'living': 1718, 'fairy': 969, 'son': 2693, 'grave': 1218, 'gofundme': 1192, 'bishopsgravemarker': 302, 'similar': 2630, 'thoughts': 2930, 'hardcore': 1280, 'looks': 1735, 'lmfaois': 1725, 'reunion': 2448, 'june': 1557, 'expo': 943, 'idaho': 1404, 'gardens': 1141, 'performe': 2174, 'conference': 558, 'questions': 2346, 'publishing': 2324, 'yes': 3309, 'viewing': 3115, 'apparently': 149, 'artist': 169, 'admire': 49, 'creativity': 610, 'nonsense': 2032, 'mobile': 1914, 'tech': 2887, 'reviews': 2452, 'comparisons': 545, 'review': 2451, 'comparison': 544, 'lip': 1704, 'synch': 2861, 'terrible': 2898, 'cards': 417, 'spending': 2730, 'cash': 421, 'juno': 1559, 'wallet': 3160, 'nike': 2016, 'gamestop': 1130, 'task': 2880, 'downloading': 783, 'inviting': 1491, 'signup': 2627, 'use': 3068, 'promo': 2303, 'code': 513, 'bd': 241, 'hunger': 1384, 'games': 1129, 'jormis': 1546, 'fly': 1055, 'burned': 386, 'czfcxsn': 647, 'jnq': 1536, 'soooooooooooooooooooooooooooooooooooooooooooooooooo': 2705, 'women': 3236, 'artists': 170, 'copied': 582, 'yea': 3303, 'ur': 3064, 'watchin': 3179, 'saw': 2525, 'yeat': 3307, 'words': 3245, 'hole': 1343, 'nowplaying': 2044, 'weekendmix': 3197, 'dj': 756, 'denis': 705, 'shmelev': 2604, 'alex': 90, 'serov': 2574, 'smartfm': 2676, 'livestream': 1717, 'wiews': 3218, 'et': 909, 'rihana': 2463, 'trop': 2998, 'belle': 263, 'chanson': 454, 'illuminati': 1418, 'confirmed': 560, 'gvr': 1247, 'xg': 3285, 'adore': 51, 'earning': 831, 'risk': 2473, 'claiming': 495, 'bonus': 330, 'deals': 681, 'technique': 2888, 'bookmakers': 334, 'betfair': 271, 'acquire': 30, 'lad': 1637, 'named': 1978, 'jim': 1531, 'vanstone': 3087, 'selecting': 2559, 'wagers': 3154, 'secrets': 2553, 'generated': 1153, 'quid': 2349, 'assume': 183, 'pay': 2153, 'succeeds': 2814, 'sweet': 2853, 'natural': 1982, 'thingie': 2924, 'nailey': 1974, 'nicool': 2013, 'mee': 1840, 'ini': 1455, 'reminds': 2426, 'smaller': 2674, 'mile': 1879, 'huh': 1379, 'hyuck': 1397, 'australia': 196, 'looooved': 1740, 'drones': 803, 'kamal': 1573, 'tayara': 2882, 'drone': 802, 'history': 1334, 'moly': 1919, 'types': 3029, 'nd': 1984, 'obsessed': 2062, 'rules': 2506, 'haha': 1257, 'cyrus': 645, 'leeched': 1671, 'porno': 2250, 'celeb': 431, 'wrong': 3272, 'tube': 3011, 'kobyoshi': 1618, 'swear': 2851, 'keeps': 1586, 'gorgeous': 1208, 'curly': 631, 'doesn': 763, 'mixtape': 1906, 'feelin': 1006, 'ghostpoet': 1162, 'realized': 2384, 'verses': 3097, 'exact': 921, 'melody': 1850, 'ho': 1341, 'lumineers': 1774, 'fight': 1024, 'amendment': 106, 'privacy': 2282, 'nsa': 2046, 'spying': 2748, 'americans': 109, 'patriot': 2150, 'renewal': 2432, 'rand': 2358, 'paul': 2151, 'spent': 2731, 'hours': 1367, 'senate': 2565, 'protest': 2310, 'filibuster': 1028, 'constitution': 568, 'nation': 1981, 'founded': 1073, 'dot': 780, 'cares': 419, 'email': 868, 'senators': 2567, 'congress': 564, 'senator': 2566, 'prpeedmmmq': 2315, 'passed': 2143, 'saturday': 2523, 'morning': 1936, 'postponing': 2258, 'week': 3196, 'matters': 1825, 'protect': 2309, 'ht': 1373, 'joining': 1542, 'fright': 1097, 'chris': 483, 'cz': 646, 'niggas': 2014, 'shkira': 2603, 'wanderfol': 3162, 'miusic': 1903, 'interested': 1481, 'extra': 949, 'swagbucks': 2848, 'refer': 2404, 'nonturtle': 2033, 'brazil': 355, 'imagine': 1426, 'adsense': 54, 'morgage': 1935, 'hoppa': 1360, 'gangam': 1135, 'parody': 2136, 'musicvideo': 1965, 'celebration': 434, 'illegal': 1417, 'goodlooking': 1201, 'babe': 224, 'chanell': 448, 'approve': 157, 'insurance': 1477, 'appoints': 153, 'roll': 2491, 'space': 2716, 'prepare': 2274, 'historical': 1333, 'shame': 2588, 'brother': 368, 'starlitnightsky': 2755, 'enter': 893, 'dreamers': 792, 'prove': 2313, 'ourself': 2110, 'things': 2925, 'thankss': 2911, 'russia': 2508, 'asfn': 172, 'shghk': 2596, 'feature': 999, 'looking': 1734, 'supporters': 2835, 'launchpad': 1656, 'spot': 2741, 'bother': 343, 'gooooood': 1206, 'eeccon': 852, 'offset': 2072, 'frigea': 1096, 'marius': 1811, 'gabriel': 1122, 'mediafire': 1838, 'yvovhafsv': 3330, 'qzzqo': 2353, 'rar': 2370, 'excuse': 928, 'yall': 3300, 'killed': 1599, 'versace': 3095, 'cge': 439, 'freestyle': 1085, 'ja': 1514, 'wan': 3161, 'gardner': 1142, 'vimeo': 3117, 'wonder': 3238, 'fort': 1070, 'votre': 3144, 'trayvon': 2987, 'motherland': 1940, 'yuttx': 3329, 'oyqq': 2117, 'mate': 1820, 'memories': 1853, 'losing': 1747, 'ideas': 1406, 'lies': 1686, 'awesum': 212, 'jus': 1561, 'luv': 1777, 'charlieee': 460, 'dddd': 677, 'intention': 1480, 'truly': 3000, 'annoyed': 131, 'writer': 3269, 'killing': 1600, 'importantly': 1432, 'focuses': 1056, 'pleasant': 2222, 'daneja': 662, 'beginning': 252, 'scared': 2534, 'leopard': 1675, 'bikini': 289, 'naive': 1976, 'idiots': 1408, 'believing': 261, 'respect': 2441, 'fulfilling': 1112, 'drama': 789, 'fee': 1002, 'mgtow': 1867, 'channels': 452, 'chose': 481, 'information': 1453, 'caution': 425, 'disposable': 747, 'providers': 2314, 'utility': 3076, 'lordviperas': 1744, 'road': 2479, 'recovery': 2398, 'mindblowing': 1889, 'superbbb': 2828, 'came': 406, 'accounts': 23, 'vanoss': 3086, 'katty': 1577, 'ahhh': 76, 'damn': 656, 'spammers': 2719, 'known': 1616, 'feeling': 1007, 'php': 2192, 'fbid': 994, 'set': 2576, 'theater': 2914, 'notes': 2039, 'clear': 503, 'complete': 548, 'utter': 3078, 'cleanse': 502, 'idiocy': 1407, 'humankind': 1382, 'df': 717, 'milions': 1881, 'comentars': 529, 'bilion': 291, 'champion': 445, 'positive': 2252, 'blessing': 313, 'healing': 1301, 'creating': 609, 'success': 2815, 'bands': 231, 'killtheclockhd': 1601, 'disguise': 741, 'roaaaaarrrrrr': 2477, 'financial': 1034, 'acquiring': 31, 'wager': 3153, 'bet': 270, 'secure': 2555, 'chap': 455, 'finding': 1035, 'cost': 586, 'guess': 1238, 'bookies': 333, 'obtain': 2063, 'consumers': 571, 'ad': 40, 'alot': 98, 'learn': 1666, 'forget': 1065, 'andrew': 118, 'guasch': 1237, 'flow': 1051, 'aftermath': 70, 'tde': 2884, 'irritating': 1498, 'justin': 1566, 'groups': 1226, 'craft': 602, 'shoot': 2606, 'dances': 660, 'anybody': 139, 'fit': 1042, 'gives': 1177, 'strength': 2784, 'brings': 365, 'fast': 982, 'meaning': 1832, 'piss': 2202, 'water': 3181, 'toilet': 2956, 'quiet': 2350, 'high': 1324, 'jail': 1519, 'ended': 883, 'od': 2066, 'hug': 1377, 'vakinha': 3083, 'vaquinhae': 3088, 'aspx': 181, 'vip': 3121, 'gun': 1241, 'cross': 621, 'past': 2147, 'writing': 3270, 'mixing': 1905, 'performing': 2175, 'bars': 235, 'build': 383, 'base': 236, 'lyrical': 1783, 'commment': 540, 'knight': 1613, 'dawn': 672, 'cursed': 635, 'dp': 786, 'mppqhri': 1949, 'sr': 2750, 'digital': 729, 'bie': 282, 'utf': 3075, 'bqid': 350, 'bsr': 376, 'bkeywords': 309, 'tag': 2867, 'talented': 2871, 'sponsor': 2739, 'dylan': 824, 'irl': 1497, 'lil': 1697, 'minute': 1895, 'srilanka': 2752, 'sooo': 2701, 'rate': 2372, 'helped': 1312, 'lv': 1779, 'onece': 2089, 'zxlightsoutxz': 3344, 'problem': 2287, 'phenomena': 2185, 'nicee': 2008, 'sabrosura': 2510, 'viva': 3134, 'yerki': 3308, 'elinmigrante': 864, 'myb': 1971, 'body': 326, 'victorious': 3105, 'luxuriant': 1778, 'responsible': 2444, 'unbiased': 3035, 'yoffa': 3315, 'ociramma': 2064, 'handsome': 1271, 'arrowgance': 165, 'mizuxe': 1908, 'boaconic': 324, 'sophisticated': 2706, 'fated': 983, 'spourmo': 2743, 'chubby': 487, 'hioffpo': 1329, 'probable': 2285, 'singlewave': 2640, 'plzzzzzzz': 2233, 'plzzzzzzzzzzzzzzzzzzzzzzzzzzzzzzz': 2234, 'phones': 2188, 'plane': 2210, 'crash': 604, 'duo': 816, 'starting': 2759, 'freestyles': 1086, 'rhymes': 2457, 'pointers': 2240, 'cute': 638, 'cook': 578, 'officiates': 2071, 'tax': 2881, 'walk': 3159, 'judges': 1553, 'ink': 1456, 'valuable': 3084, 'increase': 1445, 'cece': 430, 'dead': 678, 'congratulations': 563, 'spongebob': 2738, 'mil': 1878, 'tango': 2876, 'switch': 2856, 'bitch': 304, 'fairrrrrrr': 968, 'insperasen': 1464, 'lame': 1641, 'richest': 2459, 'marketer': 1812, 'ly': 1780, 'adroid': 53, 'producers': 2292, 'tha': 2905, 'fack': 962, 'nude': 2048, 'mayby': 1828, 'hooker': 1353, 'sttuupid': 2790, 'wellcomemd': 3202, 'blogfa': 315, 'driveshaft': 801, 'slut': 2670, 'hyuna': 1398, 'shirt': 2599, 'dreaming': 793, 'piano': 2193, 'step': 2766, 'forward': 1071, 'leaked': 1665, 'clean': 501, 'rarbg': 2371, 'george': 1156, 'idol': 1409, 'inspiration': 1465, 'growing': 1228, 'thou': 2928, 'helping': 1314, 'covered': 599, 'mockingbird': 1915, 'worked': 3247, 'maroon': 1815, 'tq': 2973, 'fuau': 1104, 'texas': 2901, 'pmw': 2235, 'disappoint': 735, 'therealchrisking': 2919, 'memory': 1854, 'lane': 1646, 'released': 2419, 'rd': 2376, 'mix': 1904, 'tape': 2878, 'crown': 622, 'asking': 178, 'catch': 422, 'letting': 1678, 'dreams': 794, 'ayyy': 220, 'juss': 1562, 'tryna': 3007, 'chrck': 482, 'jelly': 1526, 'activates': 34, 'distribution': 749, 'normal': 2034, 'synthesizes': 2863, 'plant': 2212, 'entertains': 897, 'bing': 298, 'explore': 942, 'rewards': 2453, 'publ': 2322, 'referafriend': 2405, 'crea': 608, 'rrid': 2502, 'fa': 955, 'aa': 0, 'ede': 846, 'ea': 826, 'ca': 402, 'virus': 3128, 'unique': 3044, 'angry': 123, 'ass': 182, 'hoping': 1358, 'helpful': 1313, 'yfuy': 3311, 'gkr': 1180, 'entertaining': 896, 'shotgun': 2611, 'montages': 1929, 'ninja': 2021, 'defuse': 697, 'trolling': 2997, 'monkeys': 1927, 'monkey': 1926, 'white': 3210, 'password': 2146, 'hack': 1252, 'software': 2688, 'hacking': 1256, 'breaks': 359, 'moon': 1933, 'figured': 1026, 'supposed': 2836, 'ballad': 229, 'uplifting': 3057, 'motivating': 1942, 'end': 882, 'final': 1032, 'chorus': 480, 'umph': 3034, 'sounds': 2712, 'crescendo': 612, 'ing': 1454, 'powerful': 2266, 'finish': 1036, 'says': 2530, 'wavelength': 3185, 'falls': 970, 'flat': 1044, 'eonline': 900, 'eol': 899, 'images': 1425, 'reg': 2409, 'mkup': 1910, 'mh': 1868, 'jpg': 1549, 'dysfunctional': 825, 'insanity': 1460, 'gorg': 1207, 'hahah': 1259, 'juyk': 1568, 'allways': 95, 'laugh': 1655, 'talk': 2873, 'registr': 2411, 'burst': 387, 'render': 2431, 'symptomatic': 2860, 'bite': 307, 'knowledge': 1615, 'briefs': 362, 'narrow': 1980, 'thought': 2929, 'eager': 827, 'sky': 2657, 'transmit': 2984, 'crush': 623, 'dear': 682, 'sucscribe': 2820, 'vaahidmustafic': 3081, 'millioon': 1884, 'dislikesssssssssssssssssssssssssssssssss': 745, 'muslims': 1966, 'egoistic': 857, 'donating': 775, 'dollar': 768, 'ones': 2090, 'terrorist': 2899, 'expect': 934, 'cause': 424, 'ej': 860, 'ba': 223, 'kodysman': 1620, 'liked': 1690, 'chiptunes': 476, 'wonderful': 3239, 'gangnamstyle': 1138, 'android': 120, 'editor': 849, 'butalabs': 390, 'daily': 653, 'officialpsy': 2070, 'central': 436, 'black': 310, 'blond': 317, 'kill': 1598, 'bubblews': 378, 'account': 22, 'sheilcen': 2594, 'eva': 912, 'vines': 3119, 'bella': 262, 'diagnosed': 719, 'wobbler': 3232, 'syndrome': 2862, 'afford': 65, 'mri': 1952, 'surgery': 2839, 'dog': 765, 'member': 1851, 'lose': 1745, 'ekgw': 861, 'avoid': 205, 'baby': 225, 'uncle': 3036, 'pleas': 2221, 'torunament': 2966, 'okay': 2079, 'exists': 931, 'flute': 1054, 'nikki': 2018, 'minaj': 1887, 'anaconda': 115, 'googleadservices': 1203, 'pagead': 2121, 'aclk': 27, 'sa': 2509, 'ai': 77, 'csyoeb': 626, 'wxvpcfl': 3282, 'abgpydgbjdpm': 7, 'ih': 1414, 'mhu': 1869, 'wbgjxbv': 3190, 'sbeaegkn': 2531, 'ljvcf': 1719, 'byh': 399, 'byiofgicahkabskg': 400, 'wpiaqkpah': 3263, 'kmc': 1611, 'hbpm': 1296, 'qambyapbbkoekwfp': 2338, 'kullxqi': 1630, 'mg': 1866, 'hvze': 1390, 'efmqrg': 856, 'llbu': 1721, 'fsz': 1101, 'hbkjhbx': 1294, 'ts': 3008, 'dx': 823, 'hwpdx': 1393, 'kazsj': 1583, 'siecvjjmbnswyijecqvhxlbdzstubofaloyinwm': 2622, 'roocpps': 2493, 'auat': 188, 'zguickm': 3335, 'li': 1683, 'duwmabzqvene': 818, 'trfazorltbb': 2992, 'vzyv': 3152, 'xi': 3287, 'hbnq': 1295, 'nvh': 2056, 'mrbge': 1951, 'sibgggbgkab': 2620, 'jeycg': 1529, 'num': 2050, 'cid': 490, 'ggs': 1160, 'ti': 2936, 'fs': 1100, 'mvpics': 1969, 'sig': 2623, 'aod': 142, 'ofc': 2067, 'seh': 2558, 'jyrbs': 1572, 'heenq': 1308, 'client': 506, 'adurl': 56, 'parale': 2135, 'ro': 2476, 'challenge': 443, 'pentru': 2167, 'afiliati': 66, 'aplica': 143, 'noile': 2027, 'programe': 2298, 'afiliere': 67, 'fii': 1027, 'boomerul': 335, 'lunii': 1775, 'nm': 2025, 'mb': 1830, 'bg': 281, 'qouc': 2342, 'qiaaabpugaaacsqar': 2339, 'vgoqwqxjmpuyvkosf': 3102, 'bvkf': 396, 'ze': 3332, 'jhnc': 1530, 'ovckkxcbafzzpajibxwbvvq': 2114, 'jrdgz': 1551, 'rinlwgaby': 2467, 'bxlfw': 397, 'dk': 757, 'rjg': 2475, 'zkryizwqdi': 3338, 'hxgge': 1394, 'tndd': 2953, 'abfltfkbmbffcjixnthwbwkj': 6, 'onlh': 2091, 'eveagphoewxogbnu': 914, 'ibgtrkgnacq': 1399, 'oibgmzgafnsc': 2074, 'lsariqj': 1766, 'hqr': 1371, 'dwv': 822, 'biy': 308, 'yublotde': 3327, 'xvklnveadzzf': 3294, 'xryqke': 3291, 'wsur': 3274, 'edljwgk': 850, 'flq': 1053, 'qaldi': 2337, 'waznuysgqjnrdy': 3188, 'vucklplzonyisdkc': 3148, 'ebx': 842, 'dbhjzdw': 675, 'lbsjbi': 1660, 'gxm': 1249, 'krhv': 1629, 'xinqli': 3288, 'wqbahs': 3264, 'zx': 3343, 'mjhw': 1909, 'vwrkpxfoeks': 3150, 'college': 520, 'indiegogo': 1450, 'projects': 2301, 'ermail': 906, 'pl': 2206, 'dolacz': 767, 'unnfy': 3048, 'cd': 427, 'couch': 587, 'french': 1089, 'kpop': 1625, 'axy': 218, 'aspiring': 180, 'hopes': 1357, 'choice': 477, 'fact': 963, 'wazzasoft': 3189, 'sertave': 2575, 'tendency': 2896, 'humor': 1383, 'unelind': 3042, 'operation': 2095, 'feandra': 996, 'chorenn': 479, 'oleald': 2084, 'claster': 500, 'fuffapster': 1111, 'vb': 3089, 'uploaded': 3059, 'screw': 2539, 'chinese': 474, 'crap': 603, 'speaking': 2724, 'poverty': 2263, 'pan': 2129, 'handleing': 1269, 'touch': 2968, 'mic': 1871, 'brotherhood': 369, 'hearing': 1305, 'cooooooooooooolllllllllll': 580, 'mute': 1967, 'having': 1291, 'written': 3271, 'subscriber': 2806, 'mail': 1796, 'hermann': 1318, 'buchmair': 379, 'succumbs': 2817, 'male': 1803, 'ha': 1251, 'extremely': 951, 'soooooooooooooooooooooooooooooooooooooooo': 2704, 'rjanimalcare': 2474, 'boooobs': 336, 'performance': 2173, 'acceptance': 18, 'speech': 2727, 'daaaaaaaaaaannng': 649, 'dominate': 772, 'china': 473, 'skyburst': 2658, 'lights': 1688, 'cancer': 412, 'kidz': 1596, 'billon': 296, 'millon': 1885, 'facts': 964, 'posting': 2257, 'spirits': 2734, 'student': 2792, 'foward': 1074, 'dragons': 787, 'lana': 1643, 'del': 698, 'rey': 2454, 'drake': 788, 'macklemore': 1790, 'pink': 2201, 'countless': 591, 'inspire': 1467, 'fyi': 1119, 'freedom': 1083, 'relevant': 2421, 'critisism': 618, 'jaylan': 1523, 'doe': 761, 'teenage': 2890, 'languages': 1648, 'reaction': 2378, 'beat': 244, 'insanely': 1459, 'tofikmiedzynb': 2955, 'photos': 2191, 'profile': 2294, 'ignorant': 1413, 'wavefire': 3184, 'reiltas': 2414, 'astauand': 184, 'skizzle': 2656, 'jovaphile': 1548, 'swooflia': 2857, 'grynn': 1231, 'excellent': 925, 'slimy': 2667, 'gabby': 1121, 'nalpure': 1977, 'lucky': 1771, 'glozzom': 1185, 'depressed': 708, 'sinpad': 2641, 'stereotyped': 2770, 'toximble': 2971, 'smiley': 2680, 'wear': 3191, 'expression': 947, 'important': 1431, 'statistics': 2762, 'measure': 1834, 'warmth': 3170, 'happiness': 1276, 'respond': 2442, 'enabled': 880, 'bucks': 381, 'bsefqe': 375, 'marian': 1809, 'venezuela': 3093, 'cubik': 628, 'xoxo': 3290, 'movies': 1947, 'networkedblogs': 2002, 'cpwb': 601, 'panorama': 2131, 'paypal': 2155, 'giveaway': 1174, 'entered': 894, 'horn': 1361, 'follower': 1059, 'lists': 1710, 'talents': 2872, 'skylar': 2659, 'irish': 1496, 'avicii': 204, 'wake': 3158, 'fiddle': 1022, 'silly': 2629, 'worth': 3256, 'remind': 2425, 'spirit': 2733, 'animal': 124, 'feelz': 1009, 'updated': 3054, 'meat': 1835, 'discusss': 740, 'peaceful': 2162, 'unit': 3045, 'arbitrate': 159, 'guide': 1239, 'addition': 45, 'worried': 3253, 'salt': 2515, 'westerners': 3206, 'goes': 1191, 'transformation': 2982, 'integrated': 1478, 'available': 203, 'ver': 3094, 'install': 1471, 'update': 3053, 'yourelink': 3317, 'makeuptransformation': 1801, 'comforter': 532, 'afflicted': 64, 'christians': 485, 'angels': 122, 'patriarchs': 2148, 'prophets': 2307, 'apostles': 146, 'martyrs': 1817, 'confessors': 559, 'saints': 2514, 'conceived': 553, 'sin': 2633, 'rosary': 2497, 'eye': 952, 'using': 3072, 'titles': 2948, 'viral': 3123, 'change': 449, 'animator': 128, 'animation': 126, 'gamezzmta': 1132, 'shufflin': 2617, 'depth': 709, 'hupweh': 1385, 'ab': 4, 'trailer': 2979, 'believemefilm': 259, 'hlr': 1339, 'hqbuvb': 1370, 'lo': 1728, 'bones': 329, 'dosing': 779, 'sleep': 2663, 'feet': 1010, 'buys': 395, 'adult': 55, 'screwing': 2540, 'basketball': 238, 'eu': 910, 'pn': 2236, 'voyage': 3146, 'knew': 1612, 'funnier': 1116, 'spoken': 2737, 'quite': 2351, 'rapidly': 2366, 'disappointed': 736, 'kinglothedancer': 1605, 'lovethewayyoulie': 1763, 'rapgod': 2364, 'effects': 854, 'foto': 1072, 'audiojungle': 191, 'net': 1999, 'eugenekalinin': 911, 'portfolio': 2251, 'test': 2900, 'murdev': 1962, 'sevadus': 2578, 'keithlinscotts': 1587, 'wery': 3205, 'downs': 785, 'emas': 869, 'mtvema': 1958, 'xh': 3286, 'sheep': 2593, 'period': 2176, 'dissertation': 748, 'roaaarrr': 2478, 'gp': 1213, 'offer': 2068, 'listing': 1709, 'ecvf': 845, 'qid': 2340, 'olp': 2085, 'tab': 2865, 'refurbished': 2408, 'condition': 557, 'itz': 1509, 'recaps': 2391, 'diddle': 722, 'drives': 800, 'luther': 1776, 'jr': 1550, 'subscribes': 2808, 'auburn': 189, 'pride': 2279, 'tigermeathoodie': 2938, 'likkee': 1696, 'dark': 667, 'horse': 1362, 'ahead': 75, 'roughly': 2498, 'fricking': 1093, 'beast': 243, 'anywon': 141, 'herd': 1317, 'rollin': 2492, 'woke': 3233, 'buggti': 382, 'nuketown': 2049, 'shooting': 2607, 'quick': 2347, 'scoping': 2538, 'training': 2981, 'faze': 992, 'adoult': 52, 'freind': 1087, 'sang': 2519, 'freinds': 1088, 'shake': 2583, 'golden': 1195, 'adele': 46, 'kodaline': 1619, 'poster': 2256, 'nyghdramafest': 2058, 'zombie': 3340, 'apocalypse': 144, 'greetings': 1223, 'spoderman': 2736, 'anderson': 117, 'expecting': 936, 'gain': 1124, 'harder': 1281, 'cuz': 640, 'red': 2399, 'reasons': 2390, 'mon': 1923, 'monster': 1928, 'shout': 2612, 'curse': 634, 'maylaysia': 1829, 'airlines': 83, 'went': 3203, 'missing': 1899, 'louis': 1754, 'saving': 2524, 'goodbye': 1200, 'brew': 361, 'crew': 614, 'rockin': 2489, 'yrs': 3324, 'health': 1302, 'scare': 2533, 'thankfully': 2909, 'fullest': 1113, 'mission': 1900, 'accomplished': 21, 'motivate': 1941, 'bored': 340, 'send': 2568, 'justice': 1564, 'steven': 2771, 'reed': 2402, 'lands': 1645, 'supreme': 2837, 'court': 597, 'wait': 3156, 'kidding': 1593, 'amy': 113, 'ytma': 3326, 'stil': 2774, 'wk': 3231, 'reinforce': 2415, 'stereotype': 2769, 'girly': 1173, 'painting': 2126, 'nails': 1975, 'worldcup': 3251, 'jt': 1552, 'ufxhxc': 3031, 'diving': 752, 'doctor': 759, 'hurts': 1387, 'inside': 1462, 'nicely': 2010, 'dressed': 797, 'espa': 907, 'mexico': 1865, 'latinoamerica': 1654, 'camp': 409, 'krean': 1628, 'jesses': 1528, 'spelled': 2729, 'emerson': 870, 'zanol': 3331, 'ching': 475, 'ling': 1701, 'ding': 731, 'ring': 2466, 'yaaaaaa': 3298, 'ganga': 1134, 'llikee': 1722, 'imma': 1428, 'trafficking': 2978, 'petition': 2184, 'thepetitionsite': 2917, 'headerclick': 1300, 'opponents': 2099, 'mm': 1911, 'racists': 2355, 'echa': 843, 'vistazo': 3132, 'remezcla': 2424, 'wrecking': 3265, 'ball': 228, 'vincent': 3118, 'enlace': 889, 'suscr': 2844, 'glamour': 1183, 'fell': 1011, 'soo': 2699, 'dang': 663, 'dat': 668, 'gat': 1143, 'gkm': 1179, 'xny': 3289, 'mmlp': 1912, 'ftw': 1103, 'supper': 2832, 'lover': 1759, 'pun': 2325, 'beware': 274, 'butt': 391, 'hurt': 1386, 'fail': 966, 'fanboys': 975, 'racist': 2354, 'dtqcftr': 809, 'fac': 958, 'justien': 1565, 'car': 415, 'notice': 2040, 'fragile': 1077, 'swim': 2855, 'enlist': 891, 'ice': 1401, 'audit': 192, 'frequent': 1090, 'describes': 711, 'dna': 758, 'pro': 2284, 'plays': 2219, 'worries': 3254, 'wastin': 3174, 'noticed': 2041, 'strong': 2788, 'messages': 1862, 'lhudygirlamaya': 1682, 'flimsy': 1047, 'slip': 2668, 'facilitate': 961, 'manager': 1807, 'noise': 2028, 'anxious': 138, 'retrieve': 2447, 'prioritize': 2281, 'flight': 1046, 'searchs': 2546, 'polish': 2241, 'zip': 3337, 'omniscient': 2087, 'sean': 2543, 'kingston': 1606, 'inbox': 1438, 'fair': 967, 'title': 2946, 'fgw': 1018, 'itttttttt': 1506, 'wurkkkkkkkkkkkkkkkkkkkkkkkkkkkkkkkkkkkkkkkkkkkkkkkkkkkkkkkkkkkkkkkkkkkkkkkkkkkkkkkkkkkkkkkkkkkkkkkkkkkkk': 3278, 'static': 2761, 'smack': 2672, 'forever': 1064, 'folks': 1057, 'aware': 207, 'pisses': 2203, 'beaties': 246, 'prehistoric': 2272, 'section': 2554, 'course': 596, 'promos': 2304, 'statement': 2760, 'conciliate': 556, 'acidic': 26, 'stretch': 2785, 'recognizes': 2394, 'numberless': 2052, 'transport': 2985, 'trade': 2977, 'tweet': 3020, 'therealterrell': 2920, 'gotta': 1210, 'clicked': 505, 'uphill': 3056, 'jb': 1524, 'borderlands': 339, 'pre': 2271, 'sequel': 2571, 'literally': 1711, 'housee': 1369, 'generate': 1152, 'leads': 1663, 'auto': 199, 'pilot': 2200, 'myleadergate': 1973, 'moretraffic': 1934, 'mai': 1795, 'nguyen': 2006, 'jam': 1520, 'personally': 2180, 'abusive': 16, 'relationship': 2418, 'dad': 651, 'mammoth': 1804, 'achieve': 24, 'shock': 2605, 'reduce': 2401, 'delicate': 700, 'meaty': 1836, 'scale': 2532, 'adapt': 42, 'oil': 2076, 'aslamu': 179, 'lykum': 1781, 'pakistan': 2127, 'antrobofficial': 136, 'shrek': 2614, 'veygin': 3100, 'steps': 2768, 'duzafizz': 819, 'burder': 385, 'colorful': 521, 'incandescent': 1439, 'ambitious': 105, 'winooze': 3225, 'absorbing': 13, 'macabre': 1788, 'crestboot': 613, 'boxium': 347, 'womanly': 3235, 'tan': 2875, 'ybuwyn': 3302, 'forgetful': 1066, 'pepelexa': 2170, 'zealous': 3333, 'dongs': 776, 'aunt': 194, 'nicei': 2009, 'robo': 2485, 'viewers': 3114, 'setting': 2577, 'skits': 2655, 'classsic': 499, 'chhanel': 469, 'extinct': 948, 'genocide': 1155, 'angel': 121, 'katycat': 1579, 'public': 2323, 'pouring': 2262, 'bucket': 380, 'running': 2507, 'acting': 33, 'gf': 1159, 'boring': 341, 'asinine': 175, 'divorce': 753, 'shitty': 2602, 'stick': 2773, 'putty': 2334, 'adf': 47, 'hmvtx': 1340, 'ilovethissong': 1421, 'likeee': 1691, 'virucide': 3127, 'purry': 2330, 'arkglzjqup': 162, 'mirror': 1897, 'harry': 1282, 'potter': 2261, 'deathly': 684, 'hallows': 1267, 'sirius': 2642, 'dunno': 815, 'joke': 1544, 'beibs': 255, 'capitalized': 414, 'twin': 3021, 'twins': 3022, 'danke': 665, 'grazie': 1219, 'jims': 1532, 'ear': 828, 'berzerk': 268, 'halloween': 1266, 'eh': 858, 'stupid': 2794, 'government': 1212, 'gcmforex': 1150, 'partners': 2138, 'aw': 206, 'joint': 1543, 'affiliateid': 63, 'admit': 50, 'hottest': 1365, 'hairstyles': 1262, 'trends': 2991, 'upgrade': 3055, 'fashion': 980, 'senses': 2570, 'higher': 1325, 'level': 1679, 'gl': 1181, 'bxrosr': 398, 'plese': 2225, 'loud': 1753, 'authority': 198, 'improves': 1436, 'canvas': 413, 'repair': 2433, 'uppity': 3061, 'learning': 1668, 'substantial': 2812, 'derives': 710, 'cheer': 466, 'likeeee': 1692, 'point': 2239, 'stfu': 2772, 'invented': 1485, 'formula': 1069, 'inches': 1441, 'research': 2439, 'topic': 2963, 'penis': 2165, 'enlargement': 890, 'applied': 151, 'learned': 1667, 'inch': 1440, 'results': 2445, 'issue': 1502, 'asked': 177, 'promote': 2305, 'payhip': 2154, 'otib': 2106, 'selling': 2564, 'symbolic': 2859, 'emi': 871, 'nem': 1994, 'humanity': 1381, 'wholehearted': 3213, 'discrimination': 739, 'united': 3046, 'bring': 363, 'impossible': 1433, 'winners': 3224, 'brothers': 370, 'sisters': 2644, 'tinyurl': 2944, 'slash': 2662, 'mxh': 1970, 'verse': 3096, 'journey': 1547, 'gag': 1123, 'aavpwj': 3, 'wtf': 3275, 'compared': 543, 'concert': 554, 'contest': 574, 'loosing': 1742, 'exagdl': 923, 'qq': 2343, 'eminmem': 874, 'bastard': 240, 'blonde': 318, 'planet': 2211, 'ima': 1423, 'datpiff': 670, 'mixtapes': 1907, 'volume': 3140, 'island': 1499, 'dated': 669, 'claire': 496, 'playing': 2217, 'belly': 264, 'copy': 583, 'danced': 658, 'jvinpuemo': 1569, 'kevin': 1588, 'hart': 1283, 'realkevinheart': 2385, 'noms': 2030, 'mtv': 1957, 'delete': 699, 'spaces': 2717, 'curti': 636, 'demiilovatofas': 702, 'frases': 1078, 'secretas': 2552, 'cope': 581, 'picked': 2195, 'pen': 2164, 'paper': 2133, 'wrote': 3273, 'suicide': 2823, 'professionally': 2293, 'produced': 2290, 'felt': 1012, 'brought': 371, 'spray': 2745, 'hairstylist': 1263, 'cameraman': 408, 'bots': 344, 'bs': 374, 'azerbaijan': 222, 'growtopia': 1229, 'bulgaria': 384, 'aseris': 171, 'short': 2609, 'medication': 1839, 'wited': 3228, 'alfred': 91, 'sadly': 2512, 'hog': 1342, 'swamp': 2850, 'eating': 839, 'disorder': 746, 'filled': 1029, 'sassy': 2521, 'mice': 1872, 'flaming': 1043, 'cheetos': 468, 'eat': 838, 'samurman': 2517, 'conqueror': 567, 'haki': 1264, 'cried': 615, 'oppa': 2098, 'pe': 2160, 'ginius': 1167, 'conveying': 576, 'domestic': 771, 'violence': 3120, 'fictional': 1021, 'exist': 930, 'lives': 1716, 'abuses': 15, 'chooses': 478, 'sexual': 2580, 'popaegis': 2245, 'wrenn': 3266, 'almond': 96, 'cutie': 639, 'helpmypitbull': 1316, 'pitbull': 2204, 'vet': 3099, 'visits': 3131, 'ix': 1512, 'ctkd': 627, 'dress': 796, 'kpopcity': 1626, 'largest': 1650, 'discount': 737, 'hollywood': 1344, 'stars': 2756, 'luckymusiqlive': 1772, 'didn': 723, 'charley': 458, 'littlebrother': 1713, 'gamezz': 1131, 'mta': 1955, 'avaaz': 202, 'org': 2102, 'po': 2238, 'corporation': 585, 'broadcasting': 366, 'anular': 137, 'os': 2104, 'strikes': 2786, 'nostalgia': 2037, 'cxpzpgb': 641, 'guss': 1243, 'worst': 3255, 'fears': 998, 'towered': 2969, 'human': 1380, 'folly': 1062, 'honesty': 1351, 'wright': 3267, 'makeing': 1798, 'harts': 1284, 'breaken': 358, 'cazzy': 426, 'comeing': 528, 'rule': 2505, 'luck': 1769, 'visuelgamingznl': 3133, 'skill': 2650, 'current': 632, 'coffee': 514, 'lovers': 1760, 'lova': 1755, 'spell': 2728, 'titled': 2947, 'blast': 311, 'group': 1225, 'leader': 1662, 'rookie': 2494, 'members': 1852, 'chanicka': 450, 'julie': 1556, 'stephanie': 2767, 'leah': 1664, 'notch': 2038, 'singers': 2637, 'auditioning': 193, 'management': 1806, 'plan': 2209, 'jyp': 1571, 'bighit': 288, 'jellyfish': 1527, 'yg': 3312, 'sm': 2671, 'votekatyperry': 3142, 'vma': 3135, 'lyric': 1782, 'lead': 1661, 'ut': 3074, 'kx': 1633, 'empire': 877, 'teelalala': 2889, 'permpage': 2177, 'viralangels': 3124, 'aaacwk': 2, 'skinny': 2653, 'bisexual': 301, 'sweat': 2852, 'nervous': 1998, 'austin': 195, 'mahone': 1794, 'nelson': 1993, 'plausible': 2214, 'submits': 2799, 'behavior': 253, 'grass': 1216, 'seat': 2547, 'country': 593, 'strategizes': 2779, 'edge': 847, 'rhinnah': 2456, 'recommend': 2395, 'apple': 150, 'gen': 1151, 'gb': 1147, 'unlocked': 3047, 'wi': 3214, 'fi': 1020, 'price': 2278, 'samsung': 2516, 'iv': 1510, 'sony': 2698, 'led': 1670, 'hdtv': 1297, 'pcs': 2158, 'macbook': 1789, 'air': 82, 'nikon': 2020, 'slr': 2669, 'ultrabooks': 3033, 'vaio': 3082, 'intel': 1479, 'core': 584, 'purchase': 2327, 'taaee': 2864, 'rapid': 2365, 'magicdroid': 1793, 'flipagram': 1048, 'luka': 1773, 'qmrhf': 2341, 'psnboss': 2318, 'tggp': 2903, 'pv': 2335, 'roarrrr': 2481, 'dreaddis': 790, 'notif': 2042, 'fbpage': 995, 'invite': 1490, 'actorid': 37, 'selfie': 2562, 'alert': 89, 'wiredo': 3226, 'tears': 2886, 'gold': 1194, 'splashes': 2735, 'nuts': 2055, 'chubbz': 488, 'dinero': 730, 'war': 3168, 'illustrate': 1419, 'exclusive': 927, 'mountain': 1943, 'refers': 2406, 'helpless': 1315, 'acoustic': 29, 'som': 2692, 'tips': 2945, 'kik': 1597, 'skype': 2660, 'pander': 2130, 'sander': 2518, 'nicolaysen': 2012, 'kashoo': 1574, 'feels': 1008, 'emotions': 876, 'inspirational': 1466, 'achieved': 25, 'couldn': 588, 'thankful': 2908, 'ty': 3026, 'katys': 1582, 'giraffe': 1169, 'elongate': 865, 'spinal': 2732, 'skin': 2652, 'pigment': 2199, 'root': 2496, 'giraffebruuh': 1170, 'loon': 1737, 'express': 946, 'asian': 174, 'non': 2031, 'countries': 592, 'rb': 2375, 'platform': 2213, 'markusmairhofer': 1814, 'colors': 522, 'characterized': 456, 'bady': 227, 'yust': 3328, 'comprehend': 551, 'explains': 940, 'awful': 213, 'clue': 511, 'kld': 1609, 'guardalo': 1236, 'cats': 423, 'gatti': 1144, 'pazzi': 2156, 'divertenti': 750, 'remove': 2430, 'wank': 3163, 'vtarggvgtwq': 3147, 'rt': 2503, 'zme': 3339, 'artady': 167, 'trigger': 2994, 'incmedia': 1443, 'truth': 3004, 'meets': 1842, 'aren': 160, 'grwmps': 1230, 'riri': 2470, 'pal': 2128, 'remixer': 2428, 'kidsmediausa': 1595, 'goood': 1205, 'btw': 377, 'nummber': 2054, 'patrik': 2149, 'kluivert': 1610, 'llowshoutouts': 1723, 'superr': 2830, 'filling': 1030, 'prizerebel': 2283, 'index': 1449, 'empowering': 878, 'hbbhhhgh': 1293, 'brake': 353, 'phone': 2187}\n",
      "  (0, 918)\t2\n",
      "  (0, 525)\t1\n",
      "  (0, 1202)\t1\n",
      "  (0, 2229)\t1\n",
      "  (0, 1376)\t1\n",
      "  (0, 1372)\t1\n",
      "  (0, 1285)\t1\n",
      "  (0, 2105)\t1\n",
      "  (0, 498)\t1\n",
      "  (0, 2026)\t1\n",
      "  (0, 2416)\t1\n",
      "  (0, 467)\t1\n",
      "  (0, 155)\t1\n",
      "  (0, 446)\t1\n",
      "  (0, 451)\t1\n",
      "  (0, 3108)\t1\n",
      "  (0, 2618)\t1\n",
      "  (0, 463)\t1\n",
      "  (0, 1726)\t1\n",
      "  (0, 3107)\t1\n",
      "  (0, 579)\t1\n",
      "  (1, 447)\t1\n",
      "  (1, 2802)\t1\n",
      "  (2, 312)\t1\n",
      "  (2, 1190)\t1\n",
      "  :\t:\n",
      "  (1559, 2802)\t1\n",
      "  (1560, 878)\t1\n",
      "  (1560, 3234)\t1\n",
      "  (1560, 1197)\t1\n",
      "  (1560, 2480)\t1\n",
      "  (1560, 1303)\t1\n",
      "  (1560, 2695)\t1\n",
      "  (1560, 1756)\t1\n",
      "  (1561, 1293)\t1\n",
      "  (1561, 2218)\t1\n",
      "  (1561, 3320)\t1\n",
      "  (1561, 463)\t1\n",
      "  (1562, 353)\t1\n",
      "  (1562, 2925)\t1\n",
      "  (1562, 766)\t1\n",
      "  (1562, 2722)\t1\n",
      "  (1562, 3039)\t1\n",
      "  (1562, 351)\t4\n",
      "  (1562, 3186)\t1\n",
      "  (1562, 2168)\t1\n",
      "  (1562, 2802)\t1\n",
      "  (1563, 2187)\t1\n",
      "  (1563, 534)\t1\n",
      "  (1563, 3180)\t1\n",
      "  (1563, 1689)\t1\n"
     ]
    }
   ],
   "source": [
    "print(count_vect.vocabulary_)\n",
    "print(x_train_counts)"
   ]
  },
  {
   "cell_type": "code",
   "execution_count": 11,
   "metadata": {},
   "outputs": [],
   "source": [
    "#Term frequency - inverse document frequency\n",
    "from sklearn.feature_extraction.text import TfidfTransformer\n",
    "tranformer = TfidfTransformer()\n",
    "x_train_tfidf = tranformer.fit_transform(x_train_counts)"
   ]
  },
  {
   "cell_type": "code",
   "execution_count": 12,
   "metadata": {},
   "outputs": [
    {
     "name": "stdout",
     "output_type": "stream",
     "text": [
      "  (0, 579)\t0.1817627430483752\n",
      "  (0, 3107)\t0.09954971942502731\n",
      "  (0, 1726)\t0.264551204493268\n",
      "  (0, 463)\t0.0836688831218715\n",
      "  (0, 2618)\t0.22662109881473988\n",
      "  (0, 3108)\t0.15012737481999192\n",
      "  (0, 451)\t0.11642107551984253\n",
      "  (0, 446)\t0.1722249653649856\n",
      "  (0, 155)\t0.21668874003588182\n",
      "  (0, 467)\t0.25055233104343294\n",
      "  (0, 2416)\t0.22129897413383598\n",
      "  (0, 2026)\t0.22129897413383598\n",
      "  (0, 498)\t0.2089846040361916\n",
      "  (0, 2105)\t0.22129897413383598\n",
      "  (0, 1285)\t0.22129897413383598\n",
      "  (0, 1372)\t0.1722249653649856\n",
      "  (0, 1376)\t0.14331344758515127\n",
      "  (0, 2229)\t0.19498573058635657\n",
      "  (0, 1202)\t0.1817627430483752\n",
      "  (0, 525)\t0.11157517176922856\n",
      "  (0, 918)\t0.529102408986536\n",
      "  (1, 2802)\t0.4169027916259167\n",
      "  (1, 447)\t0.9089510780754471\n",
      "  (2, 463)\t0.06352827648147828\n",
      "  (2, 2802)\t0.0837971152121541\n",
      "  :\t:\n",
      "  (1559, 2794)\t0.4133403828985252\n",
      "  (1560, 1756)\t0.22724886827505128\n",
      "  (1560, 2695)\t0.20333946164509845\n",
      "  (1560, 1303)\t0.3569460101522803\n",
      "  (1560, 2480)\t0.3705517204574569\n",
      "  (1560, 1197)\t0.4039422081563246\n",
      "  (1560, 3234)\t0.4574005489887746\n",
      "  (1560, 878)\t0.5195261434832101\n",
      "  (1561, 463)\t0.24347592019084308\n",
      "  (1561, 3320)\t0.3112672914461533\n",
      "  (1561, 2218)\t0.5011735588844561\n",
      "  (1561, 1293)\t0.769842330245672\n",
      "  (1562, 2802)\t0.13681556781506937\n",
      "  (1562, 2168)\t0.1783064258161094\n",
      "  (1562, 3186)\t0.20424935969292815\n",
      "  (1562, 351)\t0.7106511867563018\n",
      "  (1562, 3039)\t0.2549946814174879\n",
      "  (1562, 2722)\t0.31060468225562\n",
      "  (1562, 766)\t0.2417198859852419\n",
      "  (1562, 2925)\t0.2743398844388296\n",
      "  (1562, 353)\t0.3279588039343718\n",
      "  (1563, 1689)\t0.30165641960882134\n",
      "  (1563, 3180)\t0.4618319512460967\n",
      "  (1563, 534)\t0.40660849174513813\n",
      "  (1563, 2187)\t0.728274802363609\n"
     ]
    }
   ],
   "source": [
    "print(x_train_tfidf)"
   ]
  },
  {
   "cell_type": "code",
   "execution_count": 13,
   "metadata": {},
   "outputs": [],
   "source": [
    "x_test_counts = count_vect.transform(x_test)\n",
    "x_test_tfidf = tranformer.transform(x_test_counts)"
   ]
  },
  {
   "cell_type": "markdown",
   "metadata": {},
   "source": [
    "## ML Modeling\n",
    "We have completed cleaning of our data and we have training samples to train the model and testing samples to verify the accuracy of our models. "
   ]
  },
  {
   "cell_type": "markdown",
   "metadata": {},
   "source": [
    "## Logistic Regression\n",
    "Logistic regression is a simple statistical model which predicts a binary response (ex. 0/1). For this data, we are predicting whether a comment is a spam or not."
   ]
  },
  {
   "cell_type": "code",
   "execution_count": 14,
   "metadata": {},
   "outputs": [
    {
     "data": {
      "text/plain": [
       "LogisticRegression(C=1.0, class_weight=None, dual=False, fit_intercept=True,\n",
       "          intercept_scaling=1, max_iter=100, multi_class='ovr', n_jobs=1,\n",
       "          penalty='l2', random_state=None, solver='liblinear', tol=0.0001,\n",
       "          verbose=0, warm_start=False)"
      ]
     },
     "execution_count": 14,
     "metadata": {},
     "output_type": "execute_result"
    }
   ],
   "source": [
    "#Create and train Logistic Regression model\n",
    "from sklearn.linear_model import LogisticRegression\n",
    "model_reg = LogisticRegression()\n",
    "model_reg.fit(x_train_tfidf,y_train)"
   ]
  },
  {
   "cell_type": "code",
   "execution_count": 15,
   "metadata": {},
   "outputs": [
    {
     "name": "stdout",
     "output_type": "stream",
     "text": [
      "0.9260204081632653\n"
     ]
    }
   ],
   "source": [
    "#Run it on test data and calculate the accuracy\n",
    "accuracy = model_reg.score(x_test_tfidf, y_test)\n",
    "print(accuracy)"
   ]
  },
  {
   "cell_type": "markdown",
   "metadata": {},
   "source": [
    "## Random Forest Classifier\n",
    "Random Forest is a supervised learning algorithm. Like you can already see from it’s name, it creates a forest and makes it somehow random. The forest it builds, is an ensemble of Decision Trees. To say it in simple words: Random forest builds multiple decision trees and merges them together to get a more accurate and stable prediction."
   ]
  },
  {
   "cell_type": "code",
   "execution_count": 16,
   "metadata": {},
   "outputs": [
    {
     "name": "stderr",
     "output_type": "stream",
     "text": [
      "/anaconda3/lib/python3.7/site-packages/sklearn/ensemble/weight_boosting.py:29: DeprecationWarning: numpy.core.umath_tests is an internal NumPy module and should not be imported. It will be removed in a future NumPy release.\n",
      "  from numpy.core.umath_tests import inner1d\n"
     ]
    },
    {
     "data": {
      "text/plain": [
       "RandomForestClassifier(bootstrap=True, class_weight=None, criterion='gini',\n",
       "            max_depth=None, max_features='auto', max_leaf_nodes=None,\n",
       "            min_impurity_decrease=0.0, min_impurity_split=None,\n",
       "            min_samples_leaf=1, min_samples_split=2,\n",
       "            min_weight_fraction_leaf=0.0, n_estimators=10, n_jobs=1,\n",
       "            oob_score=False, random_state=None, verbose=0,\n",
       "            warm_start=False)"
      ]
     },
     "execution_count": 16,
     "metadata": {},
     "output_type": "execute_result"
    }
   ],
   "source": [
    "#Create and train Random Forest Classifier model\n",
    "from sklearn.ensemble import RandomForestClassifier\n",
    "model_rfc = RandomForestClassifier()\n",
    "model_rfc.fit(x_train_tfidf,y_train)"
   ]
  },
  {
   "cell_type": "code",
   "execution_count": 18,
   "metadata": {},
   "outputs": [
    {
     "name": "stdout",
     "output_type": "stream",
     "text": [
      "0.923469387755102\n"
     ]
    }
   ],
   "source": [
    "#Run it on test data and calculate the accuracy\n",
    "accuracy = model_rfc.score(x_test_tfidf, y_test)\n",
    "print(accuracy)"
   ]
  },
  {
   "cell_type": "markdown",
   "metadata": {},
   "source": [
    "## Support Vector Machine\n",
    "The objective of the support vector machine algorithm is to find a hyperplane in an N-dimensional space(N — the number of features) that distinctly classifies the data points."
   ]
  },
  {
   "cell_type": "code",
   "execution_count": 19,
   "metadata": {},
   "outputs": [
    {
     "data": {
      "text/plain": [
       "SVC(C=100, cache_size=200, class_weight=None, coef0=0.0,\n",
       "  decision_function_shape='ovr', degree=3, gamma=1, kernel='rbf',\n",
       "  max_iter=-1, probability=False, random_state=None, shrinking=True,\n",
       "  tol=0.001, verbose=False)"
      ]
     },
     "execution_count": 19,
     "metadata": {},
     "output_type": "execute_result"
    }
   ],
   "source": [
    "#Create and train Support Vector Machine model\n",
    "from sklearn import svm\n",
    "model_svm = svm.SVC(C=100, gamma = 1)\n",
    "model_svm.fit(x_train_tfidf, y_train)"
   ]
  },
  {
   "cell_type": "code",
   "execution_count": 20,
   "metadata": {},
   "outputs": [
    {
     "name": "stdout",
     "output_type": "stream",
     "text": [
      "0.9336734693877551\n"
     ]
    }
   ],
   "source": [
    "#Run it on test data and calculate the accuracy\n",
    "accuracy = model_svm.score(x_test_tfidf, y_test)\n",
    "print(accuracy)"
   ]
  }
 ],
 "metadata": {
  "kernelspec": {
   "display_name": "Python 3",
   "language": "python",
   "name": "python3"
  },
  "language_info": {
   "codemirror_mode": {
    "name": "ipython",
    "version": 3
   },
   "file_extension": ".py",
   "mimetype": "text/x-python",
   "name": "python",
   "nbconvert_exporter": "python",
   "pygments_lexer": "ipython3",
   "version": "3.7.0"
  }
 },
 "nbformat": 4,
 "nbformat_minor": 2
}
