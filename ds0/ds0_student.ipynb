{
 "cells": [
  {
   "cell_type": "markdown",
   "metadata": {},
   "source": [
    "Welcome to DS0. This is the iPython Notebook that corresponds to the slides for the DS0 workshop. "
   ]
  },
  {
   "cell_type": "code",
   "execution_count": 1,
   "metadata": {},
   "outputs": [],
   "source": [
    "from IPython.display import HTML\n",
    "import pandas as pd\n",
    "import matplotlib.pyplot as plt\n",
    "import numpy as np"
   ]
  },
  {
   "cell_type": "markdown",
   "metadata": {},
   "source": [
    "# 1. Bad Visualization\n",
    "\n",
    "We're going to use quite a few examples from Fox News to demonstrate bad visualization. While there is no doubt that other major news outlets also produce misleading graphs, these next few images are the most blatant for instruction purposes that I've discovered or have been shown. With this new eye for bad visualization, you will be able to spot misleading visualizations all across the spectrum! \n",
    "\n",
    "## NO: changing scale mid-axis\n",
    "\n",
    "What does this mean?\n",
    "\n",
    "It means the rate at which a quantitative variable is portrayed changes over the sequence. It's easier to understand as an example: \n",
    "\n",
    "![](axis.jpg) \n",
    "\n",
    "See how the x-axis goes from last year, to last week, to today? Why is that problematic?"
   ]
  },
  {
   "cell_type": "markdown",
   "metadata": {},
   "source": [
    "## YES: keeping your scale consistent"
   ]
  },
  {
   "cell_type": "code",
   "execution_count": 3,
   "metadata": {},
   "outputs": [
    {
     "name": "stderr",
     "output_type": "stream",
     "text": [
      "/anaconda3/lib/python3.7/site-packages/pandas/plotting/_converter.py:129: FutureWarning: Using an implicitly registered datetime converter for a matplotlib plotting method. The converter was registered by pandas on import. Future versions of pandas will require you to explicitly register matplotlib converters.\n",
      "\n",
      "To register the converters:\n",
      "\t>>> from pandas.plotting import register_matplotlib_converters\n",
      "\t>>> register_matplotlib_converters()\n",
      "  warnings.warn(msg, FutureWarning)\n"
     ]
    },
    {
     "data": {
      "image/png": "[encoded data removed]",
      "text/plain": [
       "<Figure size 720x360 with 1 Axes>"
      ]
     },
     "metadata": {
      "needs_background": "light"
     },
     "output_type": "display_data"
    }
   ],
   "source": [
    "gas_dict = {'date':pd.to_datetime(['2011-02-20','2012-02-13','2012-02-20']), 'price':[3.17, 3.51, 3.57]}\n",
    "\n",
    "gas_df = pd.DataFrame(gas_dict).set_index('date')\n",
    "\n",
    "\n",
    "plt.figure(figsize=(10,5))\n",
    "\n",
    "plt.plot(gas_df, marker='o', linestyle='--', color='red')\n",
    "plt.ylim([0,4])\n",
    "plt.title(\"Gas Prices\")\n",
    "\n",
    "plt.show()"
   ]
  },
  {
   "cell_type": "markdown",
   "metadata": {},
   "source": [
    "## NO: pie graphs\n",
    "\n",
    "![](Fox-News-pie-chart.png)\n",
    "\n",
    "Why?\n",
    "\n",
    "Confusing, misleading, and ugly. It's hard to tell the difference between 30% and 40% in a pie graph, even though that's a huge difference. Pie graphs may be okay for simple budgeting break-downs and expense reports, but in most data science scenarios, stay away from the pie graph. "
   ]
  },
  {
   "cell_type": "markdown",
   "metadata": {},
   "source": [
    "## YES: bar charts\n",
    "\n",
    "Why?\n",
    "\n",
    "Simple to read, exact, and pleasing to the eye. There is no confusion (as long as you have the right axis limits).\n",
    "\n",
    "What if you don't have appropriate limits? \n",
    "\n",
    " uh oh | oh no\n",
    "- | - \n",
    "![alt](obc.jpg) | ![alt](Bush-cuts.png)"
   ]
  },
  {
   "cell_type": "code",
   "execution_count": 7,
   "metadata": {},
   "outputs": [
    {
     "data": {
      "image/png": "[encoded data removed]",
      "text/plain": [
       "<Figure size 432x288 with 1 Axes>"
      ]
     },
     "metadata": {
      "needs_background": "light"
     },
     "output_type": "display_data"
    }
   ],
   "source": [
    "obc_dict = {'date':['March 27','March 31 (Goal)'], 'enrollment':[6000000, 7066000]}\n",
    "\n",
    "obc_df = pd.DataFrame(obc_dict)\n",
    "\n",
    "bush_dict = {'date':['Now', '01-01-2013'],'rate':[35, 39.6]}\n",
    "\n",
    "bush_df = pd.DataFrame(bush_dict)\n",
    "\n",
    "plt.bar(x=bush_df['date'], height='rate', data=bush_df)\n",
    "#plt.ylim([34,42])\n",
    "\n",
    "plt.show()"
   ]
  },
  {
   "cell_type": "markdown",
   "metadata": {},
   "source": [
    "Which leads to our next point...\n",
    "\n",
    "## NO: truncating when not necessary \n",
    "\n",
    "![](warren.png)\n",
    "\n",
    "## YES: showing the big picture"
   ]
  },
  {
   "cell_type": "code",
   "execution_count": 8,
   "metadata": {},
   "outputs": [
    {
     "data": {
      "image/png": "[encoded data removed]",
      "text/plain": [
       "<Figure size 432x288 with 1 Axes>"
      ]
     },
     "metadata": {
      "needs_background": "light"
     },
     "output_type": "display_data"
    }
   ],
   "source": [
    "warr_dict = {'years':pd.to_datetime(['1970','1980','1990','2000','2010','2017']).year, 'rate':[53,51,49,47,46,45]}\n",
    "warr_df = pd.DataFrame(warr_dict).set_index('years')\n",
    "\n",
    "plt.plot(warr_df, marker='o')\n",
    "plt.ylim([30,60])\n",
    "plt.show()"
   ]
  },
  {
   "cell_type": "markdown",
   "metadata": {},
   "source": [
    "# 3. Mean v. Median\n",
    "\n",
    "The most straight-forward example of why you would use median over mean comes from income data. The concept is that medians are more descriptive of the \"middle\" of the data when you are dealing with distributions that are skewed. We will demonstrate with visuals to make understanding this clearer. "
   ]
  },
  {
   "cell_type": "code",
   "execution_count": 14,
   "metadata": {},
   "outputs": [
    {
     "data": {
      "text/plain": [
       "Index(['TractId', 'State', 'County', 'TotalPop', 'Men', 'Women', 'Hispanic',\n",
       "       'White', 'Black', 'Native', 'Asian', 'Pacific', 'VotingAgeCitizen',\n",
       "       'Income', 'IncomeErr', 'IncomePerCap', 'IncomePerCapErr', 'Poverty',\n",
       "       'ChildPoverty', 'Professional', 'Service', 'Office', 'Construction',\n",
       "       'Production', 'Drive', 'Carpool', 'Transit', 'Walk', 'OtherTransp',\n",
       "       'WorkAtHome', 'MeanCommute', 'Employed', 'PrivateWork', 'PublicWork',\n",
       "       'SelfEmployed', 'FamilyWork', 'Unemployment'],\n",
       "      dtype='object')"
      ]
     },
     "execution_count": 14,
     "metadata": {},
     "output_type": "execute_result"
    }
   ],
   "source": [
    "incomes = pd.read_csv(\"acs2017_census_tract_data.csv\")\n",
    "incomes.columns"
   ]
  },
  {
   "cell_type": "code",
   "execution_count": 13,
   "metadata": {},
   "outputs": [
    {
     "data": {
      "text/plain": [
       "6711.829265280925"
      ]
     },
     "execution_count": 13,
     "metadata": {},
     "output_type": "execute_result"
    },
    {
     "data": {
      "image/png": "[encoded data removed]",
      "text/plain": [
       "<Figure size 432x288 with 1 Axes>"
      ]
     },
     "metadata": {
      "needs_background": "light"
     },
     "output_type": "display_data"
    }
   ],
   "source": [
    "incomes['Income'].hist(bins=np.arange(0,200000,500))\n",
    "\n",
    "plt.axvline(np.mean(incomes['Income'].dropna()), color='black')\n",
    "plt.axvline(np.median(incomes['Income'].dropna()), color='red')\n",
    "\n",
    "np.mean(incomes['Income'].dropna()) - np.median(incomes['Income'].dropna())"
   ]
  },
  {
   "cell_type": "code",
   "execution_count": 16,
   "metadata": {},
   "outputs": [
    {
     "data": {
      "text/plain": [
       "<matplotlib.lines.Line2D at 0x11a0383c8>"
      ]
     },
     "execution_count": 16,
     "metadata": {},
     "output_type": "execute_result"
    },
    {
     "data": {
      "image/png": "[encoded data removed]",
      "text/plain": [
       "<Figure size 432x288 with 1 Axes>"
      ]
     },
     "metadata": {
      "needs_background": "light"
     },
     "output_type": "display_data"
    }
   ],
   "source": [
    "incomes['Unemployment'].hist(bins=np.arange(0,30,1))\n",
    "\n",
    "plt.axvline(np.mean(incomes['Unemployment'].dropna()), color='black')\n",
    "plt.axvline(np.median(incomes['Unemployment'].dropna()), color='red')"
   ]
  },
  {
   "cell_type": "code",
   "execution_count": 23,
   "metadata": {},
   "outputs": [
    {
     "data": {
      "image/png": "[encoded data removed]",
      "text/plain": [
       "<Figure size 432x288 with 1 Axes>"
      ]
     },
     "metadata": {
      "needs_background": "light"
     },
     "output_type": "display_data"
    }
   ],
   "source": [
    "pois = np.random.chisquare(3, 100000)\n",
    "\n",
    "plt.hist(pois, bins=np.arange(0,20,0.25))\n",
    "\n",
    "plt.axvline(pois.mean(), color='black')\n",
    "plt.axvline(np.median(pois), color='red')\n",
    "\n",
    "plt.show()"
   ]
  }
 ],
 "metadata": {
  "kernelspec": {
   "display_name": "Python 3",
   "language": "python",
   "name": "python3"
  },
  "language_info": {
   "codemirror_mode": {
    "name": "ipython",
    "version": 3
   },
   "file_extension": ".py",
   "mimetype": "text/x-python",
   "name": "python",
   "nbconvert_exporter": "python",
   "pygments_lexer": "ipython3",
   "version": "3.7.1"
  }
 },
 "nbformat": 4,
 "nbformat_minor": 2
}
