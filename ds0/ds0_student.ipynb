{
 "cells": [
  {
   "cell_type": "markdown",
   "metadata": {},
   "source": [
    "Welcome to DS0. This is the iPython Notebook that corresponds to the slides for the DS0 workshop. "
   ]
  },
  {
   "cell_type": "code",
   "execution_count": 2,
   "metadata": {},
   "outputs": [],
   "source": [
    "from IPython.display import HTML\n",
    "import pandas as pd\n",
    "import matplotlib.pyplot as plt\n",
    "import numpy as np"
   ]
  },
  {
   "cell_type": "markdown",
   "metadata": {},
   "source": [
    "# 1. Bad Visualization\n",
    "\n",
    "We're going to use quite a few examples from Fox News to demonstrate bad visualization. While there is no doubt that other major news outlets also produce misleading graphs, these next few images are the most blatant for instruction purposes that I've discovered or have been shown. With this new eye for bad visualization, you will be able to spot misleading visualizations all across the spectrum! \n",
    "\n",
    "## NO: changing scale mid-axis\n",
    "\n",
    "What does this mean?\n",
    "\n",
    "It means the rate at which a quantitative variable is portrayed changes over the sequence. It's easier to understand as an example: \n",
    "\n",
    "![](axis.jpg) \n",
    "\n",
    "See how the x-axis goes from last year, to last week, to today? Why is that problematic?"
   ]
  },
  {
   "cell_type": "markdown",
   "metadata": {},
   "source": [
    "## YES: keeping your scale consistent"
   ]
  },
  {
   "cell_type": "code",
   "execution_count": 15,
   "metadata": {},
   "outputs": [
    {
     "data": {
      "text/plain": [
       "<Figure size 720x360 with 0 Axes>"
      ]
     },
     "metadata": {},
     "output_type": "display_data"
    }
   ],
   "source": [
    "gas_dict = {'date':pd.to_datetime(['2011-02-20','2012-02-13','2012-02-20']), 'price':[3.17, 3.51, 3.57]}\n",
    "\n",
    "gas_df = pd.DataFrame(gas_dict).set_index('date')\n",
    "\n",
    "\n",
    "plt.figure(figsize=(10,5))\n",
    "\n",
    "...\n",
    "\n",
    "plt.show()"
   ]
  },
  {
   "cell_type": "markdown",
   "metadata": {},
   "source": [
    "## NO: pie graphs\n",
    "\n",
    "![](Fox-News-pie-chart.png)\n",
    "\n",
    "Why?\n",
    "\n",
    "Confusing, misleading, and ugly. It's hard to tell the difference between 30% and 40% in a pie graph, even though that's a huge difference. Pie graphs may be okay for simple budgeting break-downs and expense reports, but in most data science scenarios, stay away from the pie graph. "
   ]
  },
  {
   "cell_type": "markdown",
   "metadata": {},
   "source": [
    "## YES: bar charts\n",
    "\n",
    "Why?\n",
    "\n",
    "Simple to read, exact, and pleasing to the eye. There is no confusion (as long as you have the right axis limits).\n",
    "\n",
    "What if you don't have appropriate limits? \n",
    "\n",
    " uh oh | oh no\n",
    "- | - \n",
    "![alt](obc.jpg) | ![alt](Bush-cuts.png)"
   ]
  },
  {
   "cell_type": "code",
   "execution_count": 14,
   "metadata": {},
   "outputs": [],
   "source": [
    "obc_dict = {'date':['March 27','March 31 (Goal)'], 'enrollment':[6000000, 7066000]}\n",
    "\n",
    "obc_df = pd.DataFrame(obc_dict)\n",
    "\n",
    "bush_dict = {'date':['Now', '01-01-2013'],'rate':[35, 39.6]}\n",
    "\n",
    "bush_df = pd.DataFrame(bush_dict)\n",
    "\n",
    "...\n",
    "\n",
    "plt.show()"
   ]
  },
  {
   "cell_type": "markdown",
   "metadata": {},
   "source": [
    "Which leads to our next point...\n",
    "\n",
    "## NO: truncating when not necessary \n",
    "\n",
    "![](warren.png)\n",
    "\n",
    "## YES: showing the big picture"
   ]
  },
  {
   "cell_type": "code",
   "execution_count": 16,
   "metadata": {},
   "outputs": [
    {
     "data": {
      "text/plain": [
       "Ellipsis"
      ]
     },
     "execution_count": 16,
     "metadata": {},
     "output_type": "execute_result"
    }
   ],
   "source": [
    "warr_dict = {'years':pd.to_datetime(['1970','1980','1990','2000','2010','2017']).year, 'rate':[53,51,49,47,46,45]}\n",
    "warr_df = pd.DataFrame(warr_dict).set_index('years')\n",
    "\n",
    "..."
   ]
  },
  {
   "cell_type": "markdown",
   "metadata": {},
   "source": [
    "# 3. Mean v. Median\n",
    "\n",
    "The most straight-forward example of why you would use median over mean comes from income data. The concept is that medians are more descriptive of the \"middle\" of the data when you are dealing with distributions that are skewed. We will demonstrate with visuals to make understanding this clearer. "
   ]
  },
  {
   "cell_type": "code",
   "execution_count": 6,
   "metadata": {},
   "outputs": [],
   "source": [
    "incomes = ...\n",
    "#incomes.head()"
   ]
  },
  {
   "cell_type": "code",
   "execution_count": 5,
   "metadata": {},
   "outputs": [
    {
     "data": {
      "text/plain": [
       "6711.829265280925"
      ]
     },
     "execution_count": 5,
     "metadata": {},
     "output_type": "execute_result"
    }
   ],
   "source": [
    "...\n",
    "\n",
    "np.mean(incomes['Income'].dropna()) - np.median(incomes['Income'].dropna())"
   ]
  },
  {
   "cell_type": "code",
   "execution_count": 7,
   "metadata": {},
   "outputs": [],
   "source": [
    "# more eda"
   ]
  },
  {
   "cell_type": "code",
   "execution_count": 9,
   "metadata": {},
   "outputs": [
    {
     "data": {
      "text/plain": [
       "Ellipsis"
      ]
     },
     "execution_count": 9,
     "metadata": {},
     "output_type": "execute_result"
    }
   ],
   "source": [
    "pois = np.random.exponential(4, 10000)\n",
    "\n",
    "..."
   ]
  }
 ],
 "metadata": {
  "kernelspec": {
   "display_name": "Python 3",
   "language": "python",
   "name": "python3"
  },
  "language_info": {
   "codemirror_mode": {
    "name": "ipython",
    "version": 3
   },
   "file_extension": ".py",
   "mimetype": "text/x-python",
   "name": "python",
   "nbconvert_exporter": "python",
   "pygments_lexer": "ipython3",
   "version": "3.7.1"
  }
 },
 "nbformat": 4,
 "nbformat_minor": 2
}
